{
  "nbformat": 4,
  "nbformat_minor": 0,
  "metadata": {
    "colab": {
      "provenance": []
    },
    "kernelspec": {
      "name": "python3",
      "display_name": "Python 3"
    },
    "language_info": {
      "name": "python"
    }
  },
  "cells": [
    {
      "cell_type": "markdown",
      "source": [
        "# Lambda functions"
      ],
      "metadata": {
        "id": "p7-gWaW0J4wu"
      }
    },
    {
      "cell_type": "markdown",
      "source": [
        "#1"
      ],
      "metadata": {
        "id": "dS3waLoYMNf6"
      }
    },
    {
      "cell_type": "code",
      "execution_count": null,
      "metadata": {
        "colab": {
          "base_uri": "https://localhost:8080/"
        },
        "id": "igSvylxoE4Bj",
        "outputId": "0b16190f-c473-4dad-dd01-14bca44edec3"
      },
      "outputs": [
        {
          "output_type": "stream",
          "name": "stdout",
          "text": [
            "22\n",
            "20\n"
          ]
        }
      ],
      "source": [
        "gum =  lambda x: x+15\n",
        "bazm = lambda x,y: print(x*y)\n",
        "\n",
        "print(gum(7))\n",
        "bazm(5,4)"
      ]
    },
    {
      "cell_type": "markdown",
      "source": [
        "# 2"
      ],
      "metadata": {
        "id": "kwXR2Ug7NCo8"
      }
    },
    {
      "cell_type": "code",
      "source": [
        "fib = lambda n: fib(n-1)+fib(n-2) if n>1 else 1\n",
        "for i in range(10):  print(fib(i),\"\\t\")"
      ],
      "metadata": {
        "colab": {
          "base_uri": "https://localhost:8080/"
        },
        "id": "mCPurs2eND8x",
        "outputId": "efc76234-017f-4d98-cb64-f81a46bb5f4a"
      },
      "execution_count": null,
      "outputs": [
        {
          "output_type": "stream",
          "name": "stdout",
          "text": [
            "1 \t\n",
            "1 \t\n",
            "2 \t\n",
            "3 \t\n",
            "5 \t\n",
            "8 \t\n",
            "13 \t\n",
            "21 \t\n",
            "34 \t\n",
            "55 \t\n"
          ]
        }
      ]
    },
    {
      "cell_type": "markdown",
      "source": [
        "#3"
      ],
      "metadata": {
        "id": "hZuBdnPWQOt_"
      }
    },
    {
      "cell_type": "code",
      "source": [
        "rev = lambda x: x[::-1]\n",
        "print(rev([1,2,3,5,6]))"
      ],
      "metadata": {
        "colab": {
          "base_uri": "https://localhost:8080/"
        },
        "id": "na2MxjZ2QPqT",
        "outputId": "61acfd24-7c3c-44bb-cadd-db8994f43fe2"
      },
      "execution_count": null,
      "outputs": [
        {
          "output_type": "stream",
          "name": "stdout",
          "text": [
            "[6, 5, 3, 2, 1]\n"
          ]
        },
        {
          "output_type": "execute_result",
          "data": {
            "text/plain": [
              "[(5, 5), (5, 1), (5, -4), (5, 5), (5, -8), (5, -7), (5, 5)]"
            ]
          },
          "metadata": {},
          "execution_count": 31
        }
      ]
    },
    {
      "cell_type": "markdown",
      "source": [
        "#4"
      ],
      "metadata": {
        "id": "ZJ8oWBh4VjLE"
      }
    },
    {
      "cell_type": "code",
      "source": [
        "# def fib_rec(n):\n",
        "#   if n<=1: return 1\n",
        "  \n",
        "#   return fib_rec(n-1)+fib_rec(n-2)\n",
        "\n",
        "# fib_rec(10)"
      ],
      "metadata": {
        "id": "EIs0e1YdWXbP"
      },
      "execution_count": null,
      "outputs": []
    },
    {
      "cell_type": "code",
      "source": [
        "import time\n",
        "\n",
        "\n",
        "def fib_iter(n):\n",
        "  if n<=1: return 1\n",
        "  \n",
        "  a,b = 1,1\n",
        "  for i in range(1,n):\n",
        "    a,b = b,a+b\n",
        "\n",
        "  return b\n",
        "\n",
        "\n",
        "\n",
        "def decorator_time(function):\n",
        "\n",
        "    def timed(*args, **kwargs):\n",
        "\n",
        "        timed.start = time.time()\n",
        "        result = function(*args, **kwargs)\n",
        "        timed.end = time.time()        \n",
        "\n",
        "        return result    \n",
        "    \n",
        "    print(timed.end-timed.start)\n",
        "        \n",
        "    return timed\n",
        "\n",
        "\n",
        "@decorator_time\n",
        "def fib_iter(n):\n",
        "  if n<=1: return 1\n",
        "  \n",
        "  a,b = 1,1\n",
        "  for i in range(1,n):\n",
        "    a,b = b,a+b\n",
        "\n",
        "  return b\n",
        "\n",
        "@decorator_time\n",
        "def fib_rec(n):\n",
        "  if n<=1: return 1\n",
        "  \n",
        "  return fib_rec(n-1)+fib_rec(n-2)\n",
        "\n",
        "fib_rec(10)"
      ],
      "metadata": {
        "colab": {
          "base_uri": "https://localhost:8080/"
        },
        "id": "N_lzuc15VkFM",
        "outputId": "61ac76f9-c7fc-4e2d-aa0d-9d5fb859ef0a"
      },
      "execution_count": null,
      "outputs": [
        {
          "output_type": "execute_result",
          "data": {
            "text/plain": [
              "89"
            ]
          },
          "metadata": {},
          "execution_count": 91
        }
      ]
    },
    {
      "cell_type": "markdown",
      "source": [
        "# Generators and Iterators"
      ],
      "metadata": {
        "id": "UGkgz2XAhMRi"
      }
    },
    {
      "cell_type": "code",
      "source": [
        "def count_up_to(x):\n",
        "  i = 0\n",
        "  while i<=x:\n",
        "    yield i\n",
        "    i+=1\n",
        "\n",
        "\n",
        "x = count_up_to(10)\n",
        "# print(next(x))\n",
        "# print(next(x))\n",
        "# print(next(x))\n",
        "\n",
        "for i in range(10): \n",
        "  eval(\"print(next(x))\")"
      ],
      "metadata": {
        "colab": {
          "base_uri": "https://localhost:8080/"
        },
        "id": "P4xtn1P-kH3R",
        "outputId": "2aabc3b6-3dea-40c1-a067-e8c4eaa4c3d7"
      },
      "execution_count": null,
      "outputs": [
        {
          "output_type": "stream",
          "name": "stdout",
          "text": [
            "0\n",
            "1\n",
            "2\n",
            "3\n",
            "4\n",
            "5\n",
            "6\n",
            "7\n",
            "8\n",
            "9\n"
          ]
        }
      ]
    },
    {
      "cell_type": "code",
      "source": [
        "def even_numbers():\n",
        "  i=0\n",
        "  while True:\n",
        "    yield i\n",
        "    i+=2\n",
        "\n",
        "\n",
        "x = even_numbers()\n",
        "print(next(x))\n",
        "print(next(x))\n",
        "print(next(x))\n",
        "print(next(x))\n",
        "print(next(x))\n"
      ],
      "metadata": {
        "colab": {
          "base_uri": "https://localhost:8080/"
        },
        "id": "Q2NGS-U5n2CS",
        "outputId": "4c559199-43df-42d6-d0cd-57e3df72f088"
      },
      "execution_count": null,
      "outputs": [
        {
          "output_type": "stream",
          "name": "stdout",
          "text": [
            "0\n",
            "2\n",
            "4\n",
            "6\n",
            "8\n",
            "10\n",
            "12\n",
            "14\n",
            "16\n",
            "18\n",
            "20\n",
            "22\n",
            "24\n",
            "26\n",
            "28\n"
          ]
        }
      ]
    },
    {
      "cell_type": "code",
      "source": [
        "def check():\n",
        "  ...\n",
        "  yield \"First part Ok\"\n",
        "\n",
        "  ...\n",
        "  yield \"Second part OK\"\n",
        "\n",
        "  ...\n",
        "  yield \"Third part OK\"\n",
        "\n",
        "\n",
        "x = check()\n"
      ],
      "metadata": {
        "id": "1N8ZHeesluDD"
      },
      "execution_count": null,
      "outputs": []
    },
    {
      "cell_type": "code",
      "source": [
        "next(x)"
      ],
      "metadata": {
        "colab": {
          "base_uri": "https://localhost:8080/",
          "height": 167
        },
        "id": "zUbwpQgml84D",
        "outputId": "010c5705-67bc-4868-9795-bd51f3bcddc0"
      },
      "execution_count": null,
      "outputs": [
        {
          "output_type": "error",
          "ename": "StopIteration",
          "evalue": "ignored",
          "traceback": [
            "\u001b[0;31m---------------------------------------------------------------------------\u001b[0m",
            "\u001b[0;31mStopIteration\u001b[0m                             Traceback (most recent call last)",
            "\u001b[0;32m<ipython-input-114-92de4e9f6b1e>\u001b[0m in \u001b[0;36m<module>\u001b[0;34m\u001b[0m\n\u001b[0;32m----> 1\u001b[0;31m \u001b[0mnext\u001b[0m\u001b[0;34m(\u001b[0m\u001b[0mx\u001b[0m\u001b[0;34m)\u001b[0m\u001b[0;34m\u001b[0m\u001b[0;34m\u001b[0m\u001b[0m\n\u001b[0m",
            "\u001b[0;31mStopIteration\u001b[0m: "
          ]
        }
      ]
    }
  ]
}