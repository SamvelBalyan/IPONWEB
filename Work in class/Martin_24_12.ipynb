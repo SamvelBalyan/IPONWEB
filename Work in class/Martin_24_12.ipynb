{
  "cells": [
    {
      "cell_type": "markdown",
      "metadata": {
        "id": "yirs3bJO8p2V"
      },
      "source": [
        "# Task 1\n",
        "\n",
        "Haschvel havasarman armatnery: $ax^2+bx+c=0$"
      ]
    },
    {
      "cell_type": "code",
      "execution_count": null,
      "metadata": {
        "id": "N3JD_jPJ6wht"
      },
      "outputs": [],
      "source": [
        "def hashvel(a,b,c):\n",
        "\n",
        "  if a==0: return -c/b\n",
        "\n",
        "  return (-b + (b**2-4*a*c)**0.5)/(2*a)\\\n",
        "        ,(-b - (b**2-4*a*c)**0.5)/(2*a)"
      ]
    },
    {
      "cell_type": "markdown",
      "metadata": {
        "id": "iz3g6T1V_2_i"
      },
      "source": [
        "# Task 2\n",
        "\n",
        "Gtnel nerqnadziqy"
      ]
    },
    {
      "cell_type": "code",
      "execution_count": null,
      "metadata": {
        "id": "Gi6r9cny_5Km"
      },
      "outputs": [],
      "source": [
        "def nerqnadziq(a,b):  return (a**2+b**2)**0.5"
      ]
    },
    {
      "cell_type": "markdown",
      "metadata": {
        "id": "n939nwgrAMgm"
      },
      "source": [
        "# Task 3\n",
        "\n",
        "stanal banakan N tvi verjin tvanshany"
      ]
    },
    {
      "cell_type": "code",
      "execution_count": null,
      "metadata": {
        "id": "ldJIFAWsBO-r"
      },
      "outputs": [],
      "source": [
        "def return_last1(N): return str(N)[-1]\n",
        "def return_last2(N): return N%10"
      ]
    },
    {
      "cell_type": "markdown",
      "metadata": {
        "id": "V-6tVwPTCYv_"
      },
      "source": [
        "# Task 4\n",
        "\n",
        "tvanshanneri gumar ev artadryal"
      ]
    },
    {
      "cell_type": "code",
      "execution_count": null,
      "metadata": {
        "id": "AJaFQ1OTCdZn"
      },
      "outputs": [],
      "source": [
        "def tv_gumar_bazm(N):\n",
        "  gumar,bazm = 0,1\n",
        "  while N:\n",
        "    tiv = N%10\n",
        "    gumar+=tiv\n",
        "    bazm*=tiv\n",
        "    N//=10\n",
        "  return gumar,bazm"
      ]
    },
    {
      "cell_type": "markdown",
      "metadata": {
        "id": "MBCN-968FryC"
      },
      "source": [
        "# Task 5\n",
        "\n",
        "2 keti koordinat =>heravorutyun"
      ]
    },
    {
      "cell_type": "code",
      "execution_count": null,
      "metadata": {
        "id": "tcpyReoFHTqc"
      },
      "outputs": [],
      "source": [
        "def heravor (a,b):  return ((a[0]-b[0])**2 + (a[1]-b[1])**2)**0.5  "
      ]
    },
    {
      "cell_type": "markdown",
      "metadata": {
        "id": "r1QP6-W1IyVx"
      },
      "source": [
        "# Task 6\n",
        "\n"
      ]
    },
    {
      "cell_type": "code",
      "execution_count": null,
      "metadata": {
        "colab": {
          "base_uri": "https://localhost:8080/"
        },
        "id": "nToUW0klI9S3",
        "outputId": "2a0bd28f-14a0-426a-92ce-7c328f23ff4b"
      },
      "outputs": [
        {
          "name": "stdout",
          "output_type": "stream",
          "text": [
            "sting\n"
          ]
        }
      ],
      "source": [
        "# def heracnel_n1(a,n): a.replace(a[n-1],\"\",1)\n",
        "# print(heracnel_n1(\"abcda\",5))\n",
        "\n",
        "def heracnel_n2(a,n): return a[:n-1]+a[n:]\n",
        "print(heracnel_n2(\"string\",3))"
      ]
    },
    {
      "cell_type": "markdown",
      "metadata": {
        "id": "pPfBjmIUU-Ig"
      },
      "source": [
        "# Task 7"
      ]
    },
    {
      "cell_type": "code",
      "execution_count": null,
      "metadata": {
        "id": "p0m7tdKXVDfL"
      },
      "outputs": [],
      "source": [
        "def switch_first_last(a): return a[-1]+a[1:-1]+a[0]"
      ]
    },
    {
      "cell_type": "markdown",
      "metadata": {
        "id": "Nxk68ps5WnXY"
      },
      "source": [
        "# Task 8"
      ]
    },
    {
      "cell_type": "code",
      "source": [
        "def function(a): return a-a%0.01"
      ],
      "metadata": {
        "id": "dpabz-W1ZD0k"
      },
      "execution_count": null,
      "outputs": []
    },
    {
      "cell_type": "code",
      "execution_count": null,
      "metadata": {
        "id": "MS4YAq1uWpD5",
        "colab": {
          "base_uri": "https://localhost:8080/"
        },
        "outputId": "12fadad1-92eb-40c4-d8af-900539254a6f"
      },
      "outputs": [
        {
          "output_type": "stream",
          "name": "stdout",
          "text": [
            "8.45\n"
          ]
        }
      ],
      "source": [
        "def erkusnoc(a): \n",
        "  a-=a%0.001\n",
        "  if a%0.01 >= 0.005:\n",
        "    a+=0.01\n",
        "  return a-a%0.01\n",
        "\n",
        "# print(erkusnoc(9.115441))\n",
        "# print(erkusnoc(9.127441))\n",
        "print(erkusnoc(8.456))\n"
      ]
    },
    {
      "cell_type": "markdown",
      "source": [
        "#Task 9"
      ],
      "metadata": {
        "id": "T7JhCluWdPvZ"
      }
    },
    {
      "cell_type": "code",
      "source": [
        "def tpel_mec_poqr(a,b,c):\n",
        "  min,max = a,a\n",
        "  for i in [b,c]:\n",
        "    if min>i: min=i\n",
        "    if max<i: max=i\n",
        "  return min,max"
      ],
      "metadata": {
        "id": "TXrJGbaedRIt",
        "colab": {
          "base_uri": "https://localhost:8080/"
        },
        "outputId": "b5ca3a86-7168-487d-e3f4-25e5811fd256"
      },
      "execution_count": null,
      "outputs": [
        {
          "output_type": "execute_result",
          "data": {
            "text/plain": [
              "(3, 77)"
            ]
          },
          "metadata": {},
          "execution_count": 13
        }
      ]
    },
    {
      "cell_type": "markdown",
      "source": [
        "#Task 10"
      ],
      "metadata": {
        "id": "Up13pNe5hV0Q"
      }
    },
    {
      "cell_type": "code",
      "source": [
        "def zuyq_kent(N): return \"Zuyq\" if N%2==0 else \"Kent\""
      ],
      "metadata": {
        "id": "8o0NJJa_hdP6"
      },
      "execution_count": null,
      "outputs": []
    },
    {
      "cell_type": "markdown",
      "source": [
        "# Task 11"
      ],
      "metadata": {
        "id": "UzrONvc-h_gc"
      }
    },
    {
      "cell_type": "code",
      "source": [
        "def bajanvum_a_te_che(N): return True if N%35==0 else False"
      ],
      "metadata": {
        "colab": {
          "base_uri": "https://localhost:8080/"
        },
        "id": "ioM5IKEBiAyZ",
        "outputId": "97ef90b2-ce9c-435a-e34a-c0d713f9f5b3"
      },
      "execution_count": null,
      "outputs": [
        {
          "output_type": "execute_result",
          "data": {
            "text/plain": [
              "True"
            ]
          },
          "metadata": {},
          "execution_count": 20
        }
      ]
    },
    {
      "cell_type": "markdown",
      "source": [
        "#Task 12"
      ],
      "metadata": {
        "id": "Wl507tefir2h"
      }
    },
    {
      "cell_type": "code",
      "source": [
        "def task_12(a): return a[::3]"
      ],
      "metadata": {
        "id": "4WRbf5PIithb"
      },
      "execution_count": null,
      "outputs": []
    },
    {
      "cell_type": "markdown",
      "source": [
        "#Task 13"
      ],
      "metadata": {
        "id": "fqZJXieGlf9t"
      }
    },
    {
      "cell_type": "code",
      "source": [
        "def bajanarars(N):\n",
        "  ret = []\n",
        "\n",
        "  for i in range(1,N//2+1):\n",
        "    if N%i==0: ret.append(i)\n",
        "  ret.append(N)\n",
        "\n",
        "  return ret\n",
        "\n",
        "bajanarars(1024)"
      ],
      "metadata": {
        "colab": {
          "base_uri": "https://localhost:8080/"
        },
        "id": "3V4wDLLIlhXM",
        "outputId": "f0d95ca0-f81b-4e5e-ace7-282137fb6103"
      },
      "execution_count": null,
      "outputs": [
        {
          "output_type": "execute_result",
          "data": {
            "text/plain": [
              "[1, 2, 4, 8, 16, 32, 64, 128, 256, 512, 1024]"
            ]
          },
          "metadata": {},
          "execution_count": 29
        }
      ]
    },
    {
      "cell_type": "markdown",
      "source": [
        "#Task 14"
      ],
      "metadata": {
        "id": "6bJ8n8finc8s"
      }
    },
    {
      "cell_type": "code",
      "source": [
        "def tpel_astxanish(a,b):  print(a*(b*'* '+'\\n'))\n",
        "\n",
        "tpel_astxanish(5,50)"
      ],
      "metadata": {
        "colab": {
          "base_uri": "https://localhost:8080/"
        },
        "id": "S7lPbPvpneT2",
        "outputId": "1e947910-3b9e-44e5-d2fb-940cfe1703af"
      },
      "execution_count": null,
      "outputs": [
        {
          "output_type": "stream",
          "name": "stdout",
          "text": [
            "* * * * * * * * * * * * * * * * * * * * * * * * * * * * * * * * * * * * * * * * * * * * * * * * * * \n",
            "* * * * * * * * * * * * * * * * * * * * * * * * * * * * * * * * * * * * * * * * * * * * * * * * * * \n",
            "* * * * * * * * * * * * * * * * * * * * * * * * * * * * * * * * * * * * * * * * * * * * * * * * * * \n",
            "* * * * * * * * * * * * * * * * * * * * * * * * * * * * * * * * * * * * * * * * * * * * * * * * * * \n",
            "* * * * * * * * * * * * * * * * * * * * * * * * * * * * * * * * * * * * * * * * * * * * * * * * * * \n",
            "\n"
          ]
        }
      ]
    },
    {
      "cell_type": "markdown",
      "source": [
        "#Task 15"
      ],
      "metadata": {
        "id": "Jqktk1yMp6ad"
      }
    },
    {
      "cell_type": "code",
      "source": [
        "def factorial(N): return N if N==1 else factorial(N-1)*N\n",
        "\n",
        "factorial(100)"
      ],
      "metadata": {
        "colab": {
          "base_uri": "https://localhost:8080/"
        },
        "id": "jwfBl0m5p7jO",
        "outputId": "d1164719-0ba6-4129-b3df-5d88282fe31d"
      },
      "execution_count": null,
      "outputs": [
        {
          "output_type": "execute_result",
          "data": {
            "text/plain": [
              "93326215443944152681699238856266700490715968264381621468592963895217599993229915608941463976156518286253697920827223758251185210916864000000000000000000000000"
            ]
          },
          "metadata": {},
          "execution_count": 52
        }
      ]
    },
    {
      "cell_type": "code",
      "source": [
        "def gcd (a,b):  return max(set(bajanarars(a)).intersection(set(bajanarars(b))))\n",
        "%time gcd(520,1024)"
      ],
      "metadata": {
        "colab": {
          "base_uri": "https://localhost:8080/"
        },
        "id": "bsjiqp1SrikH",
        "outputId": "45a52b3b-3481-429d-84bb-594208446122"
      },
      "execution_count": null,
      "outputs": [
        {
          "output_type": "stream",
          "name": "stdout",
          "text": [
            "CPU times: user 108 µs, sys: 0 ns, total: 108 µs\n",
            "Wall time: 112 µs\n"
          ]
        },
        {
          "output_type": "execute_result",
          "data": {
            "text/plain": [
              "8"
            ]
          },
          "metadata": {},
          "execution_count": 63
        }
      ]
    },
    {
      "cell_type": "markdown",
      "source": [
        "#Task 16"
      ],
      "metadata": {
        "id": "3cUKjVTMulZT"
      }
    },
    {
      "cell_type": "code",
      "source": [
        "def esim(n):\n",
        "  count=0\n",
        "  while True:\n",
        "    arr = [int(i) for i in str(n)]\n",
        "    if len(arr)==1: return count\n",
        "    n = sum(arr)\n",
        "    count+=1\n",
        "\n",
        "\n",
        "esim(159)"
      ],
      "metadata": {
        "colab": {
          "base_uri": "https://localhost:8080/"
        },
        "id": "QZNW_6TXuk6l",
        "outputId": "f75c2e4b-3b16-4b14-83bc-e55280b8640b"
      },
      "execution_count": null,
      "outputs": [
        {
          "output_type": "execute_result",
          "data": {
            "text/plain": [
              "2"
            ]
          },
          "metadata": {},
          "execution_count": 81
        }
      ]
    }
  ],
  "metadata": {
    "colab": {
      "provenance": []
    },
    "kernelspec": {
      "display_name": "Python 3",
      "name": "python3"
    },
    "language_info": {
      "name": "python"
    }
  },
  "nbformat": 4,
  "nbformat_minor": 0
}