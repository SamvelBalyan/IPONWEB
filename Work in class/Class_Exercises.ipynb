{
  "nbformat": 4,
  "nbformat_minor": 0,
  "metadata": {
    "colab": {
      "provenance": []
    },
    "kernelspec": {
      "name": "python3",
      "display_name": "Python 3"
    },
    "language_info": {
      "name": "python"
    }
  },
  "cells": [
    {
      "cell_type": "code",
      "execution_count": null,
      "metadata": {
        "id": "msiACmTTV-Ql"
      },
      "outputs": [],
      "source": [
        "class Company:\n",
        "\n",
        "  def __init__(self, name, founded):\n",
        "    self.company_name = name\n",
        "    self.founded_at = founded\n",
        "    self.employees = [print]\n",
        "    self.employees_count = 0\n",
        "\n",
        "  def __repr__(self):   return \"Company name:{}, Founded at:{}, Employees Count:{}\".\\\n",
        "                      format(self.company_name,self.founded_at,self.employees_count)\n",
        "\n",
        "\n",
        "  def add_employee(self,emp): self.employees.append(emp)\n",
        "                                                                                           \n"
      ]
    },
    {
      "cell_type": "code",
      "source": [
        "class Job:\n",
        "  def __init__(self,comp: Company, sal, exp_year,pos):\n",
        "    self.company = comp\n",
        "    self.salary = sal\n",
        "    self.exp_year = exp_year\n",
        "    self.position = pos\n",
        "\n",
        "  def __repr__(self):   return \"Company:{}, Salary:{}, Experience Year:{}, Posotion:{}\".format(self.company.company_name,self.salary,self.exp_year,self.position)\n",
        "\n",
        "  def change_salary(self,sum): self.salary = sum\n",
        "\n",
        "  def change_exp_year(self,year): self.exp_year = year\n",
        "\n",
        "  def change_position(self,pos): self.position = pos\n",
        "\n",
        "  def add_employee_count(self):  \n",
        "    self.company.employees_count+=1\n",
        "\n",
        "  def decrease_emp_count(self):  self.company.employees_count-=1"
      ],
      "metadata": {
        "id": "OLSPo3MrWAv4"
      },
      "execution_count": null,
      "outputs": []
    },
    {
      "cell_type": "code",
      "source": [
        "class Person:\n",
        "\n",
        "  def __init__(self,n,s,g,a,add):\n",
        "    self.name = n\n",
        "    self.surname = s\n",
        "    self.gender = g\n",
        "    self.age = a\n",
        "    self.address = add\n",
        "    self.friends = []\n",
        "    self.jobs = []\n",
        "\n",
        "  def __repr__(self):\n",
        "    \n",
        "    string = ''\n",
        "    for person in self.friends: \n",
        "      string += person.name\n",
        "      string+=' '\n",
        "    string = string[:-1]\n",
        "    \n",
        "    string2 = ''\n",
        "    for job in self.jobs: \n",
        "      string2 += job.position\n",
        "      string+=' '   \n",
        "\n",
        "    return \"Name:{} Surname:{} Gender:{} Age:{} Address:{} Friends:{} Job:{} \"\\\n",
        "    .format(self.name,self.surname,self.gender,self.age,self.address,string,string2)\n",
        "\n",
        "  def add_friend(self, friend):  self.friends.append(friend)\n",
        "\n",
        "  def remove_friend(self, friend):\n",
        "    try: self.friends.remove(friend)\n",
        "    except: raise(\"There is no such person\")\n",
        "\n",
        "  def add_job(self, job):  \n",
        "    job.add_employee_count()\n",
        "    self.jobs.append(job)\n",
        "\n",
        "  def remove_job(self,job):\n",
        "    try:\n",
        "      job.decrease_emp_count() \n",
        "      self.jobs.remove(job)\n",
        "    except: raise(\"There is no such job\")\n",
        "\n",
        "  def display_job(self):   print(self.jobs)\n"
      ],
      "metadata": {
        "id": "6ILFZ_s7WEIl"
      },
      "execution_count": null,
      "outputs": []
    },
    {
      "cell_type": "code",
      "source": [
        "byb = Company(\"Byblos\",\"Yerevan\")\n",
        "job_bank = Job(byb,1500,1,\"AS\")\n",
        "person1 = Person(\"Samvel\",\"Balyan\",\"Male\",\"20\",\"Some Address1\")\n",
        "person2 = Person(\"Tamara\",\"Balyan2\",\"Male\",\"22\",\"Some Address2\")\n",
        "person3 = Person(\"Anahit\",\"***yan3\",\"Female\",\"25\",\"Some Address3\")\n",
        "person4 = Person(\"Esim\",\"***yan4\",\"Female\",\"21\",\"Some Address4\")"
      ],
      "metadata": {
        "id": "M5JLAQDRWGz2"
      },
      "execution_count": null,
      "outputs": []
    },
    {
      "cell_type": "code",
      "source": [
        "print(byb)\n",
        "print(\"----------------\")\n",
        "person1.add_job(job_bank)\n",
        "print(person1)\n",
        "print(byb)\n",
        "print(\"----------------\")\n",
        "person2.add_job(job_bank)\n",
        "print(person2)\n",
        "print(byb)"
      ],
      "metadata": {
        "colab": {
          "base_uri": "https://localhost:8080/"
        },
        "id": "mRoBSljIWINR",
        "outputId": "56b54671-0fbc-41a6-c75d-9695f69e9b56"
      },
      "execution_count": null,
      "outputs": [
        {
          "output_type": "stream",
          "name": "stdout",
          "text": [
            "Company name:Byblos, Founded at:Yerevan, Employees Count:0\n",
            "----------------\n",
            "Name:Samvel Surname:Balyan Gender:Male Age:20 Address:Some Address1 Friends:  Job:AS \n",
            "Company name:Byblos, Founded at:Yerevan, Employees Count:1\n",
            "----------------\n",
            "Name:Tamara Surname:Balyan2 Gender:Male Age:22 Address:Some Address2 Friends:  Job:AS \n",
            "Company name:Byblos, Founded at:Yerevan, Employees Count:2\n"
          ]
        }
      ]
    },
    {
      "cell_type": "code",
      "source": [
        "person1.remove_job(job_bank)\n",
        "print(byb)"
      ],
      "metadata": {
        "colab": {
          "base_uri": "https://localhost:8080/"
        },
        "id": "YUMAQyl7WJvh",
        "outputId": "1b03e216-1ca1-4f1c-e45a-bb193f9f3d0e"
      },
      "execution_count": null,
      "outputs": [
        {
          "output_type": "stream",
          "name": "stdout",
          "text": [
            "Company name:Byblos, Founded at:Yerevan, Employees Count:1\n"
          ]
        }
      ]
    }
  ]
}