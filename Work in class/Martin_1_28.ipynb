{
  "nbformat": 4,
  "nbformat_minor": 0,
  "metadata": {
    "colab": {
      "provenance": [],
      "collapsed_sections": [
        "EmTrOflce4T7",
        "BxDPTfGMe0X1",
        "nmB64H1Jeyqq"
      ]
    },
    "kernelspec": {
      "name": "python3",
      "display_name": "Python 3"
    },
    "language_info": {
      "name": "python"
    }
  },
  "cells": [
    {
      "cell_type": "markdown",
      "source": [
        "#Exceptions"
      ],
      "metadata": {
        "id": "EmTrOflce4T7"
      }
    },
    {
      "cell_type": "code",
      "source": [
        "class QueueIsEmpty(Exception): ...\n",
        "class QueueIsFull(Exception): ...\n",
        "class StackIsEmpty(Exception): ...\n",
        "class StackIsFull(Exception): ..."
      ],
      "metadata": {
        "id": "ktgT90CtYGAu"
      },
      "execution_count": null,
      "outputs": []
    },
    {
      "cell_type": "markdown",
      "source": [
        "#Queue"
      ],
      "metadata": {
        "id": "BxDPTfGMe0X1"
      }
    },
    {
      "cell_type": "code",
      "execution_count": null,
      "metadata": {
        "id": "BYEiRMMhN7mM"
      },
      "outputs": [],
      "source": [
        "class Queue:\n",
        "  def __init__(self):\n",
        "    self.items = []\n",
        "    self.__MAX = 100000\n",
        "\n",
        "  def __repr__(self):\n",
        "    s = ''\n",
        "    for i in self.items: s+=f'{i} '\n",
        "    return s\n",
        "\n",
        "\n",
        "  def __len__(self):  return len(self.items)\n",
        "\n",
        "\n",
        "  def isEmpty(self):  return self.items == []\n",
        "\n",
        "\n",
        "  def isFull(self):  return len(self.items) == self.__MAX \n",
        "\n",
        "\n",
        "  def push(self,val):\n",
        "    if self.isFull(): \n",
        "      raise QueueIsFull\n",
        "    else:\n",
        "      self.items.insert(0,val)\n",
        "\n",
        "  \n",
        "  def pop(self):\n",
        "\n",
        "    if self.isEmpty():\n",
        "      raise QueueIsEmpty\n",
        "    else:\n",
        "      ret = self.items.pop()\n",
        "      return ret"
      ]
    },
    {
      "cell_type": "code",
      "source": [
        "q = Queue()\n",
        "for i in range(120000): q.push(i)"
      ],
      "metadata": {
        "colab": {
          "base_uri": "https://localhost:8080/",
          "height": 306
        },
        "id": "JXKIVLNQa3Fa",
        "outputId": "30afd2e0-b565-41a0-d0d7-b681bda7406c"
      },
      "execution_count": null,
      "outputs": [
        {
          "output_type": "error",
          "ename": "QueueIsFull",
          "evalue": "ignored",
          "traceback": [
            "\u001b[0;31m---------------------------------------------------------------------------\u001b[0m",
            "\u001b[0;31mQueueIsFull\u001b[0m                               Traceback (most recent call last)",
            "\u001b[0;32m<ipython-input-39-e6e2e4de1922>\u001b[0m in \u001b[0;36m<module>\u001b[0;34m\u001b[0m\n\u001b[1;32m      1\u001b[0m \u001b[0mq\u001b[0m \u001b[0;34m=\u001b[0m \u001b[0mQueue\u001b[0m\u001b[0;34m(\u001b[0m\u001b[0;34m)\u001b[0m\u001b[0;34m\u001b[0m\u001b[0;34m\u001b[0m\u001b[0m\n\u001b[0;32m----> 2\u001b[0;31m \u001b[0;32mfor\u001b[0m \u001b[0mi\u001b[0m \u001b[0;32min\u001b[0m \u001b[0mrange\u001b[0m\u001b[0;34m(\u001b[0m\u001b[0;36m120000\u001b[0m\u001b[0;34m)\u001b[0m\u001b[0;34m:\u001b[0m \u001b[0mq\u001b[0m\u001b[0;34m.\u001b[0m\u001b[0mpush\u001b[0m\u001b[0;34m(\u001b[0m\u001b[0mi\u001b[0m\u001b[0;34m)\u001b[0m\u001b[0;34m\u001b[0m\u001b[0;34m\u001b[0m\u001b[0m\n\u001b[0m",
            "\u001b[0;32m<ipython-input-38-65a80f999498>\u001b[0m in \u001b[0;36mpush\u001b[0;34m(self, val)\u001b[0m\n\u001b[1;32m     21\u001b[0m   \u001b[0;32mdef\u001b[0m \u001b[0mpush\u001b[0m\u001b[0;34m(\u001b[0m\u001b[0mself\u001b[0m\u001b[0;34m,\u001b[0m\u001b[0mval\u001b[0m\u001b[0;34m)\u001b[0m\u001b[0;34m:\u001b[0m\u001b[0;34m\u001b[0m\u001b[0;34m\u001b[0m\u001b[0m\n\u001b[1;32m     22\u001b[0m     \u001b[0;32mif\u001b[0m \u001b[0mself\u001b[0m\u001b[0;34m.\u001b[0m\u001b[0misFull\u001b[0m\u001b[0;34m(\u001b[0m\u001b[0;34m)\u001b[0m\u001b[0;34m:\u001b[0m\u001b[0;34m\u001b[0m\u001b[0;34m\u001b[0m\u001b[0m\n\u001b[0;32m---> 23\u001b[0;31m       \u001b[0;32mraise\u001b[0m \u001b[0mQueueIsFull\u001b[0m\u001b[0;34m\u001b[0m\u001b[0;34m\u001b[0m\u001b[0m\n\u001b[0m\u001b[1;32m     24\u001b[0m     \u001b[0;32melse\u001b[0m\u001b[0;34m:\u001b[0m\u001b[0;34m\u001b[0m\u001b[0;34m\u001b[0m\u001b[0m\n\u001b[1;32m     25\u001b[0m       \u001b[0mself\u001b[0m\u001b[0;34m.\u001b[0m\u001b[0mitems\u001b[0m\u001b[0;34m.\u001b[0m\u001b[0minsert\u001b[0m\u001b[0;34m(\u001b[0m\u001b[0;36m0\u001b[0m\u001b[0;34m,\u001b[0m\u001b[0mval\u001b[0m\u001b[0;34m)\u001b[0m\u001b[0;34m\u001b[0m\u001b[0;34m\u001b[0m\u001b[0m\n",
            "\u001b[0;31mQueueIsFull\u001b[0m: "
          ]
        }
      ]
    },
    {
      "cell_type": "code",
      "source": [],
      "metadata": {
        "id": "YBoBMAVta_36"
      },
      "execution_count": null,
      "outputs": []
    },
    {
      "cell_type": "code",
      "source": [
        "a = Queue()\n",
        "print(a)\n",
        "\n",
        "a.push(5)\n",
        "print(a)\n",
        "a.push(45)\n",
        "print(a)\n",
        "a.push(7)\n",
        "print(a)\n",
        "\n",
        "print(len(a))\n",
        "print(\"----------\")\n",
        "\n",
        "x = a.pop()\n",
        "a.pop()\n",
        "print(a)\n",
        "a.pop()\n",
        "print(a)\n",
        "a.pop()\n",
        "print(a)"
      ],
      "metadata": {
        "id": "_B7rzJhnWW16"
      },
      "execution_count": null,
      "outputs": []
    },
    {
      "cell_type": "markdown",
      "source": [
        "#Stack"
      ],
      "metadata": {
        "id": "nmB64H1Jeyqq"
      }
    },
    {
      "cell_type": "code",
      "source": [
        "class Stack:\n",
        "  def __init__(self):\n",
        "    self.items = []\n",
        "    self.__MAX = 100000\n",
        "    self.top = 0\n",
        "\n",
        "  def __repr__(self):\n",
        "    s = ''\n",
        "    for i in self.items: s+=f'{i} '\n",
        "    return s\n",
        "\n",
        "\n",
        "  def __len__(self):  return len(self.items)\n",
        "\n",
        "\n",
        "  def isEmpty(self):  return self.items == []\n",
        "\n",
        "\n",
        "  def isFull(self):  return len(self.items) == self.__MAX \n",
        "\n",
        "\n",
        "  def push(self,val):\n",
        "    if self.isFull(): \n",
        "      raise StackIsFull\n",
        "    else:\n",
        "      self.items.insert(0,val)\n",
        "      self.top = val\n",
        "\n",
        "  \n",
        "  def pop(self):\n",
        "\n",
        "    if self.isEmpty():\n",
        "      raise StackIsEmpty\n",
        "    else:\n",
        "      ret = self.items.pop(0)\n",
        "      self.top = self.items[0]\n",
        "      return ret\n"
      ],
      "metadata": {
        "id": "XIBB8_DDWpkr"
      },
      "execution_count": null,
      "outputs": []
    },
    {
      "cell_type": "code",
      "source": [
        "a = Stack()\n",
        "a.push(5)\n",
        "a.push(5)\n",
        "a.push(5)\n",
        "a.push(5)\n",
        "a.push(7)\n",
        "print(a)\n",
        "\n",
        "print(a.top)\n",
        "\n",
        "a.pop()\n",
        "print(a)\n",
        "\n"
      ],
      "metadata": {
        "colab": {
          "base_uri": "https://localhost:8080/"
        },
        "id": "mfRYQ_cVcURA",
        "outputId": "833d67eb-498b-40fd-8ad7-8a528ef61744"
      },
      "execution_count": null,
      "outputs": [
        {
          "output_type": "stream",
          "name": "stdout",
          "text": [
            "7 5 5 5 5 \n",
            "7\n",
            "5 5 5 5 \n"
          ]
        }
      ]
    },
    {
      "cell_type": "markdown",
      "source": [
        "#Double Linked List"
      ],
      "metadata": {
        "id": "Fdxwll2sevkD"
      }
    },
    {
      "cell_type": "markdown",
      "source": [
        "delete_at_head, delete_at_tail, insert_at_tail, insert_at_head, search"
      ],
      "metadata": {
        "id": "4kAQS-V_ghNg"
      }
    },
    {
      "cell_type": "code",
      "source": [
        "class Node:\n",
        "  def __init__(self, data):\n",
        "    self.data = data\n",
        "    self.prev = None\n",
        "    self.next = None\n",
        "\n",
        "  def __repr__(self):\n",
        "    return f'{self.data}'\n",
        "\n",
        "class DoubleLinkedList:\n",
        "  def __init__(self):\n",
        "    self.head = None\n",
        "    self.tail = None\n",
        "\n",
        "\n",
        "  def __repr__(self):\n",
        "    ret = ''\n",
        "    cur = self.head\n",
        "    while cur:\n",
        "      ret += f'{cur.data} '\n",
        "      cur = cur.next\n",
        "\n",
        "    return ret[:-1]\n",
        "\n",
        "\n",
        "  def insert_at_tail(self, data):\n",
        "    new_node = Node(data)\n",
        "\n",
        "    if self.head is None:\n",
        "      self.head = new_node\n",
        "      self.tail = new_node\n",
        "      return\n",
        "\n",
        "    new_node.prev = self.tail\n",
        "    self.tail.next = new_node\n",
        "    self.tail = new_node\n",
        "\n",
        "\n",
        "  def insert_at_head(self, data):\n",
        "    new_node = Node(data)\n",
        "\n",
        "    if self.head is None:\n",
        "      self.head = new_node\n",
        "      self.tail = new_node\n",
        "      return\n",
        "\n",
        "    new_node.next = self.head\n",
        "    self.head.prev = new_node\n",
        "    self.head = new_node\n",
        "  \n",
        "\n",
        "\n",
        "  def delete_at_head(self):\n",
        "\n",
        "    # ete mek andam a, return a anum datark\n",
        "    if self.head.next is None: \n",
        "      self.head = None\n",
        "      self.tail = None\n",
        "\n",
        "    # ete datark a, datark a \n",
        "    if self.head is None: return None\n",
        "\n",
        "    self.head = self.head.next\n",
        "    self.head.prev = None\n",
        "\n",
        "    print(self.head.data)\n",
        "\n",
        "\n",
        "  def delete_at_tail(self):\n",
        "\n",
        "    # ete mek andam a, return a anum datark\n",
        "    if self.tail.prev is None: \n",
        "      self.head = None\n",
        "      self.tail = None\n",
        "\n",
        "    # ete datark a, datark a \n",
        "    if self.tail is None: return None\n",
        "\n",
        "    self.tail = self.tail.prev\n",
        "    self.tail.next = None\n",
        "\n",
        "\n",
        "  def search(self, val):\n",
        "\n",
        "    cur = self.head\n",
        "    while cur:\n",
        "      if cur.head.data == val:\n",
        "        return 'Found'\n",
        "      cur = cur.next\n",
        "      \n",
        "    return \"Not Found\"\n"
      ],
      "metadata": {
        "id": "7cSZJs4scmfz"
      },
      "execution_count": null,
      "outputs": []
    },
    {
      "cell_type": "code",
      "source": [
        "a = DoubleLinkedList()\n",
        "a.insert_at_tail(5)\n",
        "a.insert_at_tail(2)\n",
        "a.insert_at_tail(3)\n",
        "\n",
        "a.insert_at_head(10)\n",
        "\n",
        "print(a)\n",
        "\n",
        "a.delete_at_head()\n",
        "a.delete_at_tail()\n",
        "print(a)"
      ],
      "metadata": {
        "colab": {
          "base_uri": "https://localhost:8080/"
        },
        "id": "6TsfAKK0hxJs",
        "outputId": "6580a70f-af2c-4dc5-8921-303348890618"
      },
      "execution_count": null,
      "outputs": [
        {
          "output_type": "stream",
          "name": "stdout",
          "text": [
            "10 5 2 3\n",
            "5\n",
            "5 2\n",
            "2\n"
          ]
        }
      ]
    },
    {
      "cell_type": "markdown",
      "source": [
        "#Factory Design Pattern\n",
        "\n"
      ],
      "metadata": {
        "id": "yrIpWQ26wNQJ"
      }
    },
    {
      "cell_type": "code",
      "source": [
        "from abc import ABC\n",
        "\n",
        "class Factory_Form(ABC):\n",
        "  def create_productA(self): \n",
        "    ...\n",
        "  def create_productB(self): \n",
        "    ...\n",
        "\n",
        "class Factory1(Factory_Form):\n",
        "  def create_productA(self):\n",
        "    return \"ProductA\"\n",
        "\n",
        "  def create_productB(self):\n",
        "    return \"ProductB\"\n",
        "\n",
        "\n",
        "class Factory2(Factory_Form):\n",
        "  def create_productA(self):\n",
        "    return \"ProductA2\"\n",
        "\n",
        "  def create_productB(self):\n",
        "    return \"ProductB2\"\n",
        "\n",
        "\n",
        "class ProductA:\n",
        "  pass\n",
        "\n",
        "class ProductB:\n",
        "  pass\n"
      ],
      "metadata": {
        "id": "80Zk4hVhh7eF"
      },
      "execution_count": null,
      "outputs": []
    },
    {
      "cell_type": "markdown",
      "source": [
        "#Proxy"
      ],
      "metadata": {
        "id": "8EhgJHKQ5DaK"
      }
    },
    {
      "cell_type": "code",
      "source": [
        "class User:\n",
        "  def __init__(self,id,level):\n",
        "    self.id = id\n",
        "    self.level = level\n",
        "\n",
        "\n",
        "\n",
        "def check_level(self,user):\n",
        "  if user.level<1:\n",
        "    return \"passed\"\n",
        "  else:\n",
        "    return \"not passed\""
      ],
      "metadata": {
        "id": "mdLrrZYw5ElM"
      },
      "execution_count": null,
      "outputs": []
    },
    {
      "cell_type": "code",
      "source": [
        "user1 = User(452,2)\n",
        "user2 = User(451,0)\n",
        "\n",
        "print(user1.level)\n",
        "check_level(user1)"
      ],
      "metadata": {
        "colab": {
          "base_uri": "https://localhost:8080/",
          "height": 219
        },
        "id": "f8B9mROX5mmQ",
        "outputId": "087fa48a-28fc-48d6-dfe9-5c013ba173f4"
      },
      "execution_count": null,
      "outputs": [
        {
          "output_type": "stream",
          "name": "stdout",
          "text": [
            "2\n"
          ]
        },
        {
          "output_type": "error",
          "ename": "TypeError",
          "evalue": "ignored",
          "traceback": [
            "\u001b[0;31m---------------------------------------------------------------------------\u001b[0m",
            "\u001b[0;31mTypeError\u001b[0m                                 Traceback (most recent call last)",
            "\u001b[0;32m<ipython-input-22-1412bc8427c5>\u001b[0m in \u001b[0;36m<module>\u001b[0;34m\u001b[0m\n\u001b[1;32m      3\u001b[0m \u001b[0;34m\u001b[0m\u001b[0m\n\u001b[1;32m      4\u001b[0m \u001b[0mprint\u001b[0m\u001b[0;34m(\u001b[0m\u001b[0muser1\u001b[0m\u001b[0;34m.\u001b[0m\u001b[0mlevel\u001b[0m\u001b[0;34m)\u001b[0m\u001b[0;34m\u001b[0m\u001b[0;34m\u001b[0m\u001b[0m\n\u001b[0;32m----> 5\u001b[0;31m \u001b[0mcheck_level\u001b[0m\u001b[0;34m(\u001b[0m\u001b[0muser1\u001b[0m\u001b[0;34m)\u001b[0m\u001b[0;34m\u001b[0m\u001b[0;34m\u001b[0m\u001b[0m\n\u001b[0m",
            "\u001b[0;31mTypeError\u001b[0m: check_level() missing 1 required positional argument: 'user'"
          ]
        }
      ]
    },
    {
      "cell_type": "code",
      "source": [],
      "metadata": {
        "id": "iBj6qhYR5tTD"
      },
      "execution_count": null,
      "outputs": []
    }
  ]
}