{
  "nbformat": 4,
  "nbformat_minor": 0,
  "metadata": {
    "colab": {
      "provenance": [],
      "collapsed_sections": [
        "PNPaqb9l3oDB"
      ]
    },
    "kernelspec": {
      "name": "python3",
      "display_name": "Python 3"
    },
    "language_info": {
      "name": "python"
    }
  },
  "cells": [
    {
      "cell_type": "markdown",
      "source": [
        "# Class work"
      ],
      "metadata": {
        "id": "PNPaqb9l3oDB"
      }
    },
    {
      "cell_type": "code",
      "execution_count": null,
      "metadata": {
        "colab": {
          "base_uri": "https://localhost:8080/"
        },
        "id": "NHCUnELvGjQN",
        "outputId": "075130b9-be46-4a30-ef1a-a292b2ef93dd"
      },
      "outputs": [
        {
          "output_type": "stream",
          "name": "stdout",
          "text": [
            "[64, 44, 5, 6]\n",
            "[44, 5, 6, 64]\n"
          ]
        }
      ],
      "source": [
        "def task1(a): return list(set(a))\n",
        "def task1_2(a):\n",
        "  ret = []\n",
        "  for i in a:\n",
        "    if i not in ret: ret.append(i)\n",
        "  return ret\n",
        "print(task1([44,5,5,6,64,5]))\n",
        "print(task1_2([44,5,5,6,64,5]))\n"
      ]
    },
    {
      "cell_type": "code",
      "source": [
        "def task2(a,b):  return set(a).intersection(set(b))\n",
        "def task2_2(a,b): return set(a) & set(b)\n",
        "\n",
        "print(task2([1,2,3,4,5],[5,3,4]))\n",
        "print(task2_2([1,2,3,4,5],[5,3,4]))"
      ],
      "metadata": {
        "colab": {
          "base_uri": "https://localhost:8080/"
        },
        "id": "agv1Stf0IEyL",
        "outputId": "b5119f22-9031-48ba-f936-c5239509dfed"
      },
      "execution_count": null,
      "outputs": [
        {
          "output_type": "stream",
          "name": "stdout",
          "text": [
            "{3, 4, 5}\n",
            "{3, 4, 5}\n"
          ]
        }
      ]
    },
    {
      "cell_type": "code",
      "source": [
        "def task3(a,b):  return set(a) - set(b)\n",
        "\n",
        "task3([1,2,3,4,5],[5,4,3])"
      ],
      "metadata": {
        "colab": {
          "base_uri": "https://localhost:8080/"
        },
        "id": "uSp61x1KJyBV",
        "outputId": "ea50a118-0017-4a39-a279-686eed598624"
      },
      "execution_count": null,
      "outputs": [
        {
          "output_type": "execute_result",
          "data": {
            "text/plain": [
              "{1, 2}"
            ]
          },
          "metadata": {},
          "execution_count": 67
        }
      ]
    },
    {
      "cell_type": "code",
      "source": [
        "a,b = [1,2,3,7,4,5],[5,11,4,5,3]\n",
        "\n",
        "def task4(a,b): return (set(a+b)) - task2(a,b)\n",
        "def task4_2(a,b): return set(a) ^ set(b)\n",
        "\n",
        "print(task4(a,b))\n",
        "print(task4_2(a,b))"
      ],
      "metadata": {
        "colab": {
          "base_uri": "https://localhost:8080/"
        },
        "id": "zV6Ud2peKeSb",
        "outputId": "6d2b16dd-6746-4a4c-e4e1-b082b0e15aa9"
      },
      "execution_count": null,
      "outputs": [
        {
          "output_type": "stream",
          "name": "stdout",
          "text": [
            "{1, 2, 11, 7}\n",
            "{1, 2, 7, 11}\n"
          ]
        }
      ]
    },
    {
      "cell_type": "code",
      "source": [
        "def task5(a,b):  return set(a) | (set(a) & set(b))\n",
        "\n",
        "task5(a,b)"
      ],
      "metadata": {
        "colab": {
          "base_uri": "https://localhost:8080/"
        },
        "id": "evCrit_SLyRC",
        "outputId": "581ea21c-92e6-4eff-a2be-a4ec3cb753c5"
      },
      "execution_count": null,
      "outputs": [
        {
          "output_type": "execute_result",
          "data": {
            "text/plain": [
              "{1, 2, 3, 4, 5, 7}"
            ]
          },
          "metadata": {},
          "execution_count": 69
        }
      ]
    },
    {
      "cell_type": "code",
      "source": [
        "def task6(s,val):\n",
        "  \n",
        "  try:   s.remove(val)\n",
        "  except:  ...\n",
        "\n",
        "  return s\n",
        "\n",
        "task6({1,2,3,45},3)"
      ],
      "metadata": {
        "colab": {
          "base_uri": "https://localhost:8080/"
        },
        "id": "TRN3qVkzM9SB",
        "outputId": "7b6e760b-de77-4d27-9512-a25388f3f370"
      },
      "execution_count": null,
      "outputs": [
        {
          "output_type": "execute_result",
          "data": {
            "text/plain": [
              "{1, 2, 45}"
            ]
          },
          "metadata": {},
          "execution_count": 70
        }
      ]
    },
    {
      "cell_type": "code",
      "source": [
        "def task7(a):  return [i**3 for i in a]\n",
        "\n",
        "task7({1,2,3,4,5})"
      ],
      "metadata": {
        "colab": {
          "base_uri": "https://localhost:8080/"
        },
        "id": "KCqaVflEObmW",
        "outputId": "3502ec77-3bf7-473c-9bcd-291bff268099"
      },
      "execution_count": null,
      "outputs": [
        {
          "output_type": "execute_result",
          "data": {
            "text/plain": [
              "[1, 8, 27, 64, 125]"
            ]
          },
          "metadata": {},
          "execution_count": 71
        }
      ]
    },
    {
      "cell_type": "code",
      "source": [
        "def task8(dic,key,val):\n",
        "  dic[key] = val\n",
        "  return dic\n",
        "\n",
        "task8({\"a\":4,\"b\":3},\"c\",7)"
      ],
      "metadata": {
        "colab": {
          "base_uri": "https://localhost:8080/"
        },
        "id": "Repw1jgDPAEu",
        "outputId": "1172a160-09fb-4008-99ae-7a1355bee40c"
      },
      "execution_count": null,
      "outputs": [
        {
          "output_type": "execute_result",
          "data": {
            "text/plain": [
              "{'a': 4, 'b': 3, 'c': 7}"
            ]
          },
          "metadata": {},
          "execution_count": 72
        }
      ]
    },
    {
      "cell_type": "code",
      "source": [
        "def task9(dict1,dict2):\n",
        "  dict3 = dict1\n",
        "  dict3.update(dict2)\n",
        "  return dict3\n",
        "  # return {**dict1,**dict2}\n",
        "\n",
        "print(task9({\"a\":4,\"b\":3},{\"b\":4,\"c\":9}))"
      ],
      "metadata": {
        "colab": {
          "base_uri": "https://localhost:8080/"
        },
        "id": "AwHevuzPRGav",
        "outputId": "70442d63-f5a0-4b70-b0a4-a8137ddcc6a3"
      },
      "execution_count": null,
      "outputs": [
        {
          "output_type": "stream",
          "name": "stdout",
          "text": [
            "{'a': 4, 'b': 4, 'c': 9}\n"
          ]
        }
      ]
    },
    {
      "cell_type": "code",
      "source": [
        "def task10(N):\n",
        "\n",
        "  dic = {}\n",
        "  for i in range(1,N):  dic[i] = i**3\n",
        "\n",
        "  return dic\n",
        "\n",
        "task10(10) "
      ],
      "metadata": {
        "colab": {
          "base_uri": "https://localhost:8080/"
        },
        "id": "pScGHbVwSkTs",
        "outputId": "d3c40d73-e840-4348-aa24-3aff4e224287"
      },
      "execution_count": null,
      "outputs": [
        {
          "output_type": "execute_result",
          "data": {
            "text/plain": [
              "{1: 1, 2: 8, 3: 27, 4: 64, 5: 125, 6: 216, 7: 343, 8: 512, 9: 729}"
            ]
          },
          "metadata": {},
          "execution_count": 74
        }
      ]
    },
    {
      "cell_type": "code",
      "source": [
        "def task11(a,b):\n",
        "  return dict(zip(a,b))\n",
        "\n",
        "def task11_2(a,b):\n",
        "  dic = {}\n",
        "  for i in range(len(a)):\n",
        "    dic[a[i]] = b[i]\n",
        "  \n",
        "  return dic\n",
        "\n",
        "print(task11([\"a\",\"b\",\"c\"],[1,2,3]))\n",
        "print(task11_2([\"a\",\"b\",\"c\"],[1,2,3]))\n"
      ],
      "metadata": {
        "colab": {
          "base_uri": "https://localhost:8080/"
        },
        "id": "hZI-hepfT3zt",
        "outputId": "32b0f7d2-1eb3-47d3-801c-4255d1b12fcf"
      },
      "execution_count": null,
      "outputs": [
        {
          "output_type": "stream",
          "name": "stdout",
          "text": [
            "{'a': 1, 'b': 2, 'c': 3}\n",
            "{'a': 1, 'b': 2, 'c': 3}\n"
          ]
        }
      ]
    },
    {
      "cell_type": "code",
      "source": [
        "def task12(dic):\n",
        "  values = sorted(list(dic.values()))\n",
        "  return values[0],values[-1]\n",
        "\n",
        "\n",
        "print(task12({'a': 3, 'b': 24, 'c': 123, 'd': 1}))\n"
      ],
      "metadata": {
        "colab": {
          "base_uri": "https://localhost:8080/"
        },
        "id": "KZ0uQYeHUtx3",
        "outputId": "71dd8b22-dbe5-4a42-d204-e25d3e60e36d"
      },
      "execution_count": null,
      "outputs": [
        {
          "output_type": "stream",
          "name": "stdout",
          "text": [
            "(1, 123)\n"
          ]
        }
      ]
    },
    {
      "cell_type": "code",
      "source": [
        "def task13(filename,n):\n",
        "  with open(filename,'r') as name:\n",
        "    a = name.readlines()\n",
        "    for i in range(n):\n",
        "      print(a[i])\n",
        "\n",
        "task13(\"filename.txt\",5)"
      ],
      "metadata": {
        "colab": {
          "base_uri": "https://localhost:8080/",
          "height": 324
        },
        "id": "KEuBj5j-Zj5h",
        "outputId": "dcebd7b2-3709-4122-a635-de8580d65d3a"
      },
      "execution_count": null,
      "outputs": [
        {
          "output_type": "error",
          "ename": "FileNotFoundError",
          "evalue": "ignored",
          "traceback": [
            "\u001b[0;31m---------------------------------------------------------------------------\u001b[0m",
            "\u001b[0;31mFileNotFoundError\u001b[0m                         Traceback (most recent call last)",
            "\u001b[0;32m<ipython-input-77-5cd6ac1ade58>\u001b[0m in \u001b[0;36m<module>\u001b[0;34m\u001b[0m\n\u001b[1;32m      5\u001b[0m       \u001b[0mprint\u001b[0m\u001b[0;34m(\u001b[0m\u001b[0ma\u001b[0m\u001b[0;34m[\u001b[0m\u001b[0mi\u001b[0m\u001b[0;34m]\u001b[0m\u001b[0;34m)\u001b[0m\u001b[0;34m\u001b[0m\u001b[0;34m\u001b[0m\u001b[0m\n\u001b[1;32m      6\u001b[0m \u001b[0;34m\u001b[0m\u001b[0m\n\u001b[0;32m----> 7\u001b[0;31m \u001b[0mtask13\u001b[0m\u001b[0;34m(\u001b[0m\u001b[0;34m\"filename.txt\"\u001b[0m\u001b[0;34m,\u001b[0m\u001b[0;36m5\u001b[0m\u001b[0;34m)\u001b[0m\u001b[0;34m\u001b[0m\u001b[0;34m\u001b[0m\u001b[0m\n\u001b[0m",
            "\u001b[0;32m<ipython-input-77-5cd6ac1ade58>\u001b[0m in \u001b[0;36mtask13\u001b[0;34m(filename, n)\u001b[0m\n\u001b[1;32m      1\u001b[0m \u001b[0;32mdef\u001b[0m \u001b[0mtask13\u001b[0m\u001b[0;34m(\u001b[0m\u001b[0mfilename\u001b[0m\u001b[0;34m,\u001b[0m\u001b[0mn\u001b[0m\u001b[0;34m)\u001b[0m\u001b[0;34m:\u001b[0m\u001b[0;34m\u001b[0m\u001b[0;34m\u001b[0m\u001b[0m\n\u001b[0;32m----> 2\u001b[0;31m   \u001b[0;32mwith\u001b[0m \u001b[0mopen\u001b[0m\u001b[0;34m(\u001b[0m\u001b[0mfilename\u001b[0m\u001b[0;34m,\u001b[0m\u001b[0;34m'r'\u001b[0m\u001b[0;34m)\u001b[0m \u001b[0;32mas\u001b[0m \u001b[0mname\u001b[0m\u001b[0;34m:\u001b[0m\u001b[0;34m\u001b[0m\u001b[0;34m\u001b[0m\u001b[0m\n\u001b[0m\u001b[1;32m      3\u001b[0m     \u001b[0ma\u001b[0m \u001b[0;34m=\u001b[0m \u001b[0mname\u001b[0m\u001b[0;34m.\u001b[0m\u001b[0mreadlines\u001b[0m\u001b[0;34m(\u001b[0m\u001b[0;34m)\u001b[0m\u001b[0;34m\u001b[0m\u001b[0;34m\u001b[0m\u001b[0m\n\u001b[1;32m      4\u001b[0m     \u001b[0;32mfor\u001b[0m \u001b[0mi\u001b[0m \u001b[0;32min\u001b[0m \u001b[0mrange\u001b[0m\u001b[0;34m(\u001b[0m\u001b[0mn\u001b[0m\u001b[0;34m)\u001b[0m\u001b[0;34m:\u001b[0m\u001b[0;34m\u001b[0m\u001b[0;34m\u001b[0m\u001b[0m\n\u001b[1;32m      5\u001b[0m       \u001b[0mprint\u001b[0m\u001b[0;34m(\u001b[0m\u001b[0ma\u001b[0m\u001b[0;34m[\u001b[0m\u001b[0mi\u001b[0m\u001b[0;34m]\u001b[0m\u001b[0;34m)\u001b[0m\u001b[0;34m\u001b[0m\u001b[0;34m\u001b[0m\u001b[0m\n",
            "\u001b[0;31mFileNotFoundError\u001b[0m: [Errno 2] No such file or directory: 'filename.txt'"
          ]
        }
      ]
    },
    {
      "cell_type": "code",
      "source": [
        "def task14(filename,n):\n",
        "  with open(filename,'r') as f:\n",
        "\n",
        "    a = f.read().split(\" \")\n",
        "    for i in range(len(a)): \n",
        "      if \"\\n\" in a[i]:\n",
        "        \n",
        "        a.extend(a[i].split(\"\\n\"))\n",
        "        del a[i]\n",
        "    a.sort(key=len)\n",
        "    print(a)\n",
        "    # b = []\n",
        "    # # a = set(a)\n",
        "    # for i in range(len(a)):\n",
        "    #   b.append(len(a[i]))\n",
        "    # b = set(b)\n",
        "    # return list(b)[-1]\n",
        "    \n",
        "\n",
        "task14(\"filename.txt\",5)"
      ],
      "metadata": {
        "id": "2MXmav0Ng2QC"
      },
      "execution_count": null,
      "outputs": []
    },
    {
      "cell_type": "code",
      "source": [
        "def task15(filename,n):\n",
        "  with open(filename,'r') as f:\n",
        "\n",
        "    return len(f.read().replace(\",\",\" \").split()) \n",
        "    \n",
        "\n",
        "task15(\"file.txt\",5)"
      ],
      "metadata": {
        "id": "enXkG85Xkwir"
      },
      "execution_count": null,
      "outputs": []
    },
    {
      "cell_type": "code",
      "source": [
        "def task16(n):\n",
        "\n",
        "  letters = \"ABCDEFGHIJKLMNOPQRSTUVWXYZ\"\n",
        "  with open(\"words1.txt\",'w') as f:\n",
        "\n",
        "    for i in range(len(letters) // n+1):\n",
        "      f.write(\"\\n\")\n",
        "      f.write(letters[i*n:n+i*n])\n",
        "\n",
        "\n",
        "task16(5)"
      ],
      "metadata": {
        "id": "ruxYYCr-qnjW"
      },
      "execution_count": null,
      "outputs": []
    },
    {
      "cell_type": "code",
      "source": [],
      "metadata": {
        "id": "ZUnQLFL20ydz"
      },
      "execution_count": null,
      "outputs": []
    },
    {
      "cell_type": "code",
      "source": [
        "def age(n):\n",
        "    return \"just born\" * (n in range(0, 1)) + \"child\" * (n in range(1, 10)) + \"young\" * (n in range(10, 30))\n",
        "age(21)"
      ],
      "metadata": {
        "id": "8QcpA2Auy9NV"
      },
      "execution_count": null,
      "outputs": []
    },
    {
      "cell_type": "markdown",
      "source": [
        "# Class"
      ],
      "metadata": {
        "id": "yunr-0oq3k6g"
      }
    },
    {
      "cell_type": "code",
      "source": [
        "class Company:\n",
        "\n",
        "  def __init__(self, name, founded):\n",
        "    self.company_name = name\n",
        "    self.founded_at = founded\n",
        "    self.employees_count = 0\n",
        "\n",
        "  def __repr__(self):   return \"Company name:{}, Founded at:{}, Employees Count:{}\".format(self.company_name,self.founded_at,self.employees_count)"
      ],
      "metadata": {
        "id": "4L7O7n7HQRXo"
      },
      "execution_count": null,
      "outputs": []
    },
    {
      "cell_type": "code",
      "source": [
        "class Job:\n",
        "  def __init__(self,comp: Company, sal, exp_year,pos):\n",
        "    self.company = comp\n",
        "    self.salary = sal\n",
        "    self.exp_year = exp_year\n",
        "    self.position = pos\n",
        "\n",
        "  def __repr__(self):   return \"Company:{}, Salary:{}, Experience Year:{}, Posotion:{}\".format(self.company.company_name,self.salary,self.exp_year,self.position)\n",
        "\n",
        "  def change_salary(self,sum): self.salary = sum\n",
        "\n",
        "  def change_exp_year(self,year): self.exp_year = year\n",
        "\n",
        "  def change_position(self,pos): self.position = pos\n",
        "\n",
        "  def add_emp_count(self):  self.company.employees_count+=1\n",
        "\n",
        "  def decrease_emp_count(self):  self.company.employees_count-=1"
      ],
      "metadata": {
        "id": "uzvLxHDf3kgj"
      },
      "execution_count": null,
      "outputs": []
    },
    {
      "cell_type": "code",
      "source": [
        "class Person:\n",
        "\n",
        "  def __init__(self,n,s,g,a,add):\n",
        "    self.name = n\n",
        "    self.surname = s\n",
        "    self.gender = g\n",
        "    self.age = a\n",
        "    self.address = add\n",
        "    self.friends = []\n",
        "    self.jobs = []\n",
        "\n",
        "  def __repr__(self):\n",
        "    \n",
        "    string = ''\n",
        "    for person in self.friends: \n",
        "      string += person.name\n",
        "      string+=' '\n",
        "    string = string[:-1]\n",
        "    \n",
        "    string2 = ''\n",
        "    for job in self.jobs: \n",
        "      string2 += job.position\n",
        "      string+=' '   \n",
        "\n",
        "    return \"Name:{} Surname:{} Gender:{} Age:{} Address:{} Friends:{} Job:{} \"\\\n",
        "    .format(self.name,self.surname,self.gender,self.age,self.address,string,string2)\n",
        "\n",
        "  def add_friend(self, friend):  self.friends.append(friend)\n",
        "\n",
        "  def remove_friend(self, friend):\n",
        "    try: self.friends.remove(friend)\n",
        "    except: raise(\"There is no such person\")\n",
        "\n",
        "  def add_job(self, job):  \n",
        "    job.add_emp_count()\n",
        "    self.jobs.append(job)\n",
        "\n",
        "  def remove_job(self,job):\n",
        "    try:\n",
        "      job.decrease_emp_count() \n",
        "      self.jobs.remove(job)\n",
        "    except: raise(\"There is no such job\")\n",
        "\n",
        "  def display_job(self):   print(self.jobs)\n"
      ],
      "metadata": {
        "id": "kmaZiUswQWDv"
      },
      "execution_count": null,
      "outputs": []
    },
    {
      "cell_type": "code",
      "source": [
        "byb = Company(\"Byblos\",\"Yerevan\")\n",
        "job_bank = Job(byb,1500,1,\"AS\")\n",
        "person1 = Person(\"Samvel\",\"Balyan\",\"Male\",\"20\",\"Some Address1\")\n",
        "person2 = Person(\"Tamara\",\"Balyan2\",\"Male\",\"22\",\"Some Address2\")\n",
        "person3 = Person(\"Anahit\",\"***yan3\",\"Female\",\"25\",\"Some Address3\")\n",
        "person4 = Person(\"Esim\",\"***yan4\",\"Female\",\"21\",\"Some Address4\")"
      ],
      "metadata": {
        "id": "iOeWGgmm7aO4"
      },
      "execution_count": null,
      "outputs": []
    },
    {
      "cell_type": "code",
      "source": [
        "print(byb)\n",
        "person1.add_job(job_bank)\n",
        "print(byb)\n",
        "person2.add_job(job_bank)\n",
        "print(byb)"
      ],
      "metadata": {
        "id": "qszUUnd74-Bi"
      },
      "execution_count": null,
      "outputs": []
    },
    {
      "cell_type": "code",
      "source": [
        "person1.remove_job(job_bank)\n",
        "print(byb)"
      ],
      "metadata": {
        "id": "6R3dJeQH6fs3"
      },
      "execution_count": null,
      "outputs": []
    }
  ]
}