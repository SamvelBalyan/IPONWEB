{
  "nbformat": 4,
  "nbformat_minor": 0,
  "metadata": {
    "colab": {
      "provenance": [],
      "collapsed_sections": [
        "meYHDSJFmrGT"
      ]
    },
    "kernelspec": {
      "name": "python3",
      "display_name": "Python 3"
    },
    "language_info": {
      "name": "python"
    }
  },
  "cells": [
    {
      "cell_type": "markdown",
      "source": [
        "# TASK 1\n",
        "\n",
        "Տրված է թվաբանական պրոգրեսիայի առաջին և երկրորդ անդամները։ Տրված n֊ի\n",
        "համար, վերադարձնել այդ պրոգրեսիայի n֊րդ անդամը։\n",
        "Օրինակ՝\n",
        "input: 1 5 3, 2.5 3 5\n",
        "output: a[3]=9, a[5]=4.5"
      ],
      "metadata": {
        "id": "BgAvDngt1XF9"
      }
    },
    {
      "cell_type": "code",
      "execution_count": null,
      "metadata": {
        "colab": {
          "base_uri": "https://localhost:8080/"
        },
        "id": "L3CcG3T40y0S",
        "outputId": "83138488-5ae2-465b-adb5-ea3823cedf0f"
      },
      "outputs": [
        {
          "output_type": "stream",
          "name": "stdout",
          "text": [
            "9\n",
            "4.5\n"
          ]
        }
      ],
      "source": [
        "def task1(a1,a2,n): return a1+(n-1)*(a2-a1)\n",
        "print(task1(1,5,3))\n",
        "print(task1(2.5,3,5))\n"
      ]
    },
    {
      "cell_type": "markdown",
      "source": [
        "# TASK 2\n",
        "\n",
        "CodeMaster-ը նոր է վերադարձել գնումներից։ Նա սկանավորեց իր գնած ապրանքների\n",
        "չեկը և ստացված շարանը տվեց Ratiorg֊ին՝ պարզելու գնված ապրանքների\n",
        "ընդհանուր թիվը: Քանի որ Ratiorg-ը բոտ է, նա անպայման պատրաստվում է այն\n",
        "ավտոմատացնել, ուստի նրան անհրաժեշտ է ծրագիր, որը կամփոփի բոլոր թվերը,\n",
        "որոնք հայտնվում են տվյալ մուտքագրում:\n",
        "Օգնեք Ratiorg-ին՝ գրելով ֆունկցիա, որը վերադարձնում է տվյալ inputString-ում\n",
        "հայտնված թվերի գումարը։\n",
        "Օրինակ՝\n",
        "Input: &quot;2 apples, 12 oranges&quot;\n",
        "Output: 14"
      ],
      "metadata": {
        "id": "ZYGMsyk_3DLZ"
      }
    },
    {
      "cell_type": "code",
      "source": [
        "def task2(text):\n",
        "  text=text.split(\" \")\n",
        "  sum=0\n",
        "  \n",
        "  for i in text:\n",
        "    try: sum += int(i)\n",
        "    except: pass\n",
        "\n",
        "  return sum\n",
        "\n",
        "task2(\"2 apples, 12 oranges\")"
      ],
      "metadata": {
        "colab": {
          "base_uri": "https://localhost:8080/"
        },
        "id": "DC0BEx2K4NmA",
        "outputId": "552cf645-5d32-4304-e4d3-f50f0e7cc94b"
      },
      "execution_count": null,
      "outputs": [
        {
          "output_type": "execute_result",
          "data": {
            "text/plain": [
              "14"
            ]
          },
          "metadata": {},
          "execution_count": 2
        }
      ]
    },
    {
      "cell_type": "markdown",
      "source": [
        "# TASK 3\n",
        "\n",
        "Մուտքագրեք երեք ամբողջ թիվ: Տպեք «Տեսակավորված» բառը, եթե թվերը նշված են\n",
        "ոչ աճող կամ չնվազող հերթականությամբ, իսկ «Չտեսակավորված» հակարակ\n",
        "դեփքում:\n",
        "Օրինակ՝\n",
        "input: [1,2,3], [1,3,2], [5,0,-4]\n",
        "output: Sorted, Unsorted, Sorted"
      ],
      "metadata": {
        "id": "2ZSp7VUt5sfs"
      }
    },
    {
      "cell_type": "code",
      "source": [
        "def task3(*arr):\n",
        "  return [check_sorted(i) for i in arr]\n",
        "\n",
        "def check_sorted(arr):\n",
        "\n",
        "  # ete nvazox e\n",
        "  if arr[0] > arr[1]: \n",
        "    for i in range(len(arr)-1):\n",
        "      if arr[i] < arr[i+1]:\n",
        "        return \"Unsorted\"\n",
        "  else:\n",
        "    # ete ajox e\n",
        "    for i in range(len(arr)-1):\n",
        "      if arr[i] > arr[i+1]:\n",
        "        return \"Unsorted\"\n",
        "    # ete sax ok a\n",
        "  return \"Sorted\"\n",
        "\n",
        "task3([1,2,3], [1,3,2], [5,0,-4],[4,5,6,1],[9,8,5,-3,-5])"
      ],
      "metadata": {
        "colab": {
          "base_uri": "https://localhost:8080/"
        },
        "id": "SkVTv-Vj51V7",
        "outputId": "b93e549e-c9e3-4f92-8df8-112f0d84f62e"
      },
      "execution_count": null,
      "outputs": [
        {
          "output_type": "execute_result",
          "data": {
            "text/plain": [
              "['Sorted', 'Unsorted', 'Sorted', 'Unsorted', 'Sorted']"
            ]
          },
          "metadata": {},
          "execution_count": 25
        }
      ]
    },
    {
      "cell_type": "markdown",
      "source": [
        "# TASK 4\n",
        "\n",
        "Գրել ֆունկցիա, որը տրված բնական թվի համար կստուգի, արդյոք այն\n",
        "կատարյալ թիվ է, թե ոչ։\n",
        "Հ․Գ Թիվը կոչվում է կատարյալ, եթե այն հավասար է իր բաժանարարների\n",
        "գումարին։\n",
        "Օրինակ՝\n",
        "6 ի բաժանարարներն են 1, 2 և 3 , 1 + 2 + 3 = 6, կատարյալ է 12֊ի բաժանարարներըն\n",
        "են 1, 2 , 3 , 4 , 6 , 1 + 2 + 3 + 4 + 6 = 16, հետևաբար\n",
        "կատարյալ չէ։"
      ],
      "metadata": {
        "id": "CBmYLkxtA6At"
      }
    },
    {
      "cell_type": "code",
      "source": [
        "def task4(n):\n",
        "  sum = 0\n",
        "  for i in range(1,n//2+1):\n",
        "    if n%i == 0 :\n",
        "      sum+=i\n",
        "\n",
        "  return sum == n\n",
        "\n",
        "task4(6)"
      ],
      "metadata": {
        "colab": {
          "base_uri": "https://localhost:8080/"
        },
        "id": "xsDh5KKkA92Q",
        "outputId": "d7342081-6ecf-4b02-f412-1dcd3b28540a"
      },
      "execution_count": null,
      "outputs": [
        {
          "output_type": "execute_result",
          "data": {
            "text/plain": [
              "True"
            ]
          },
          "metadata": {},
          "execution_count": 4
        }
      ]
    },
    {
      "cell_type": "markdown",
      "source": [
        "# TASK 5\n",
        "\n",
        "Գրել ծրագիր, որը տրված թվային արժեքներով ցուցակի համար, կհաշվի նրա\n",
        "էլեմենտների գումարը։"
      ],
      "metadata": {
        "id": "rlgQGLE3CFQ8"
      }
    },
    {
      "cell_type": "code",
      "source": [
        "def task5(arr):\n",
        "  sum = 0\n",
        "  for i in arr: sum+=i\n",
        "  return sum\n",
        "\n",
        "task5([5,4,2])"
      ],
      "metadata": {
        "colab": {
          "base_uri": "https://localhost:8080/"
        },
        "id": "-2NERpq-CH0I",
        "outputId": "44634524-e0d7-4972-d50f-0d7a838c8794"
      },
      "execution_count": null,
      "outputs": [
        {
          "output_type": "execute_result",
          "data": {
            "text/plain": [
              "11"
            ]
          },
          "metadata": {},
          "execution_count": 5
        }
      ]
    },
    {
      "cell_type": "markdown",
      "source": [
        "# TASK 6\n",
        "Գրել ֆունկցիա, որը տրված թվային արժեքներով ցուցակի համար, կվերադարձնի այդ\n",
        "ցուցակի ամենամեծ էլեմենտը։"
      ],
      "metadata": {
        "id": "UYDhv8DKCVzd"
      }
    },
    {
      "cell_type": "code",
      "source": [
        "def task6(arr):\n",
        "  max = arr[0]\n",
        "  for i in arr:\n",
        "    if i > max: max=i\n",
        "  return max\n",
        "\n",
        "task6([5,56,48,2])"
      ],
      "metadata": {
        "colab": {
          "base_uri": "https://localhost:8080/"
        },
        "id": "u3h5AFARCXPH",
        "outputId": "2e03d9a6-ecc1-4f8c-a1e3-cb795cc3e05d"
      },
      "execution_count": null,
      "outputs": [
        {
          "output_type": "execute_result",
          "data": {
            "text/plain": [
              "56"
            ]
          },
          "metadata": {},
          "execution_count": 6
        }
      ]
    },
    {
      "cell_type": "markdown",
      "source": [
        "# TASK 7\n",
        "Գրել ֆունկցիա, որը տրված ցուցակից կջնջի տրված արժեքին հավասար բոլոր\n",
        "էլեմենտները։"
      ],
      "metadata": {
        "id": "Dl5VRBuRCuoV"
      }
    },
    {
      "cell_type": "code",
      "source": [
        "def task7(arr,n):\n",
        "  for i,val in enumerate(arr): \n",
        "    if val == n: arr.pop(i)\n",
        "\n",
        "  return arr\n",
        "\n",
        "print(task7([5,4,6,4],3))\n",
        "print(task7([5,4,6,4,4],4))"
      ],
      "metadata": {
        "colab": {
          "base_uri": "https://localhost:8080/"
        },
        "id": "8gU39bMLC_Pa",
        "outputId": "fb4aecad-0478-4a6c-abd9-bdde9f9fa7bb"
      },
      "execution_count": null,
      "outputs": [
        {
          "output_type": "stream",
          "name": "stdout",
          "text": [
            "[5, 4, 6, 4]\n",
            "[5, 6, 4]\n"
          ]
        }
      ]
    },
    {
      "cell_type": "markdown",
      "source": [
        "# TASK 8\n",
        "\n",
        "Գրեք ֆունկցիա որը կվերադարձնի տրված թվային արժեքներով ցուցակի բոլոր\n",
        "էլեմենտների արտադրյալը։"
      ],
      "metadata": {
        "id": "izdn6mTFDwSp"
      }
    },
    {
      "cell_type": "code",
      "source": [
        "def task8(arr):\n",
        "  mult = 1\n",
        "  for i in arr: mult*=i\n",
        "  return mult\n",
        "\n",
        "task8([5,4,2])"
      ],
      "metadata": {
        "colab": {
          "base_uri": "https://localhost:8080/"
        },
        "id": "QeVmdPcUD1zB",
        "outputId": "1235c9f9-6ad1-4c28-d1af-807a876e1ec6"
      },
      "execution_count": null,
      "outputs": [
        {
          "output_type": "execute_result",
          "data": {
            "text/plain": [
              "40"
            ]
          },
          "metadata": {},
          "execution_count": 8
        }
      ]
    },
    {
      "cell_type": "markdown",
      "source": [
        "# TASK 9\n",
        "Գրեք ֆունկցիա՝ տողը հակադարձելու համար, եթե դրա երկարությունը 4-ի\n",
        "բազմապատիկ է։"
      ],
      "metadata": {
        "id": "0eO0-Q96EEXa"
      }
    },
    {
      "cell_type": "code",
      "source": [
        "def task9(string):\n",
        "  ret = \"\"\n",
        "  if len(string)%4==0:\n",
        "    for i in range(len(string)-1,-1,-1):\n",
        "      ret+=string[i]\n",
        "  else:\n",
        "    return None\n",
        "  \n",
        "  return ret\n",
        "\n",
        "print(task9(\"abcdefdd\"))\n",
        "print(task9(\"asd\"))"
      ],
      "metadata": {
        "colab": {
          "base_uri": "https://localhost:8080/"
        },
        "id": "ztX_L4ihEFs8",
        "outputId": "59a4c6f3-3a4f-46f1-9c42-2a6f5217a466"
      },
      "execution_count": null,
      "outputs": [
        {
          "output_type": "stream",
          "name": "stdout",
          "text": [
            "ddfedcba\n",
            "None\n"
          ]
        }
      ]
    },
    {
      "cell_type": "markdown",
      "source": [
        "#TASK 10\n",
        "\n",
        "Գրեք ֆունկցիա՝ որը տրված բնական n թվի համար վերադարձնում է Ֆիբոնաչիի n-րդ\n",
        "անդամը։ Խնդիրը լուծել և ռեկուրսիվ, և իտերատիվ մեթոդներով։"
      ],
      "metadata": {
        "id": "jqg1LS4UFllW"
      }
    },
    {
      "cell_type": "code",
      "source": [
        "# 1,1,2,3,5,8,13,21,34,...\n",
        "\n",
        "# indexavorumy 0-c\n",
        "\n",
        "def fib_rec(n):\n",
        "  if n<=1: return 1\n",
        "  \n",
        "  return fib_rec(n-1)+fib_rec(n-2)\n",
        "\n",
        "def fib_iter(n):\n",
        "  if n<=1: return 1\n",
        "  \n",
        "  a,b = 1,1\n",
        "  for i in range(1,n):\n",
        "    a,b = b,a+b\n",
        "\n",
        "  return b\n",
        "\n",
        "print(fib_rec(5))\n",
        "print(fib_iter(5))"
      ],
      "metadata": {
        "colab": {
          "base_uri": "https://localhost:8080/"
        },
        "id": "wX52OSrxFni_",
        "outputId": "21faf9e6-7330-471e-bd99-20b9601ccfea"
      },
      "execution_count": null,
      "outputs": [
        {
          "output_type": "stream",
          "name": "stdout",
          "text": [
            "8\n",
            "8\n"
          ]
        }
      ]
    },
    {
      "cell_type": "markdown",
      "source": [
        "# TASK 11\n",
        "Գրել ֆունկցիա, որը տրված 2 բնական թվերի համար կվերադարձնի նրանց\n",
        "ամենափոքր ընդհանուր բազմապատիկը։"
      ],
      "metadata": {
        "id": "RaRAWYCqH_vl"
      }
    },
    {
      "cell_type": "code",
      "source": [
        "def task11(a,b):\n",
        "  temp = b if b>a else a\n",
        "\n",
        "  while True:\n",
        "    if b>a: a,b = b,a\n",
        "\n",
        "    if a>b :\n",
        "      if a%b == 0:\n",
        "        return a \n",
        "      else:\n",
        "        a += temp\n",
        " \n",
        "task11(165418,1515415)"
      ],
      "metadata": {
        "colab": {
          "base_uri": "https://localhost:8080/"
        },
        "id": "D_6KqEb2IOUa",
        "outputId": "37c83dd8-6935-4d9d-f9f0-650473d8d770"
      },
      "execution_count": null,
      "outputs": [
        {
          "output_type": "execute_result",
          "data": {
            "text/plain": [
              "22788810770"
            ]
          },
          "metadata": {},
          "execution_count": 18
        }
      ]
    },
    {
      "cell_type": "markdown",
      "source": [
        "# TASK 12\n",
        "Գրեք python ծրագիր՝ նշված թվի հաջորդ ամենափոքր պալինդրոմը գտնելու համար:\n",
        "Օրինակ 119-ի համար հաջորդ պալինդրոմը 121 է"
      ],
      "metadata": {
        "id": "BlyrM67GKkSm"
      }
    },
    {
      "cell_type": "code",
      "source": [
        "def task12(n):\n",
        "  while True:\n",
        "    n+=1\n",
        "    if is_polindrom(n): return n\n",
        "\n",
        "def is_polindrom(n):\n",
        "  n = [int(i) for i in str(n)]\n",
        "  return n==n[::-1]\n",
        "\n",
        "task12(119)"
      ],
      "metadata": {
        "colab": {
          "base_uri": "https://localhost:8080/"
        },
        "id": "LrK209fLKtbB",
        "outputId": "ee4065fc-e61a-4342-f0d7-66032bb57bb3"
      },
      "execution_count": null,
      "outputs": [
        {
          "output_type": "execute_result",
          "data": {
            "text/plain": [
              "121"
            ]
          },
          "metadata": {},
          "execution_count": 12
        }
      ]
    },
    {
      "cell_type": "markdown",
      "source": [
        "# TASK 13\n",
        "Ռոբոտը կանգնած է ուղղանկյուն ցանցի վրա և ներկայումս գտնվում է կետում (X0,\n",
        "Y0): Կոորդինատները ամբողջ թիվ են։ Այն ստանում է N հեռակառավարման\n",
        "հրամաններ: Յուրաքանչյուր հրաման մեկն է՝ վեր, վար, ձախ, աջ: Ճիշտ հրաման\n",
        "ստանալուց հետո ռոբոտը մեկ միավոր է տեղափոխում տվյալ ուղղությամբ։ Եթե\n",
        "ռոբոտը սխալ հրաման է ստանում, նա պարզապես անտեսում է այն: Որտե՞ղ է\n",
        "գտնվելու ռոբոտը բոլոր հրամաններին հետևելուց հետո:\n",
        "Ուշադրություն: աջը՝ x0+1, ձախը՝ x0-1, վերևը՝ y0+1, ներքևը՝ y0-1։"
      ],
      "metadata": {
        "id": "TFt1fj-nLlvO"
      }
    },
    {
      "cell_type": "code",
      "source": [
        "\n",
        "def task13(arr):\n",
        "  x0,y0 = 0,0\n",
        "\n",
        "  for i in arr:\n",
        "    if i == 0: y0+=1 # up\n",
        "    if i == 1: y0-=1 # down\n",
        "    if i == 2: x0+=1 # right\n",
        "    if i == 3: x0-=1 # down\n",
        "\n",
        "  return(x0,y0)\n",
        "\n",
        "task13([0,1,2,2,2,2,3,2,3,1,0,1,0,0])\n"
      ],
      "metadata": {
        "colab": {
          "base_uri": "https://localhost:8080/"
        },
        "id": "RNdF-SSZMCTl",
        "outputId": "b9421b57-6446-4ae3-9fb5-cd7c0f605c8b"
      },
      "execution_count": null,
      "outputs": [
        {
          "output_type": "execute_result",
          "data": {
            "text/plain": [
              "(3, 1)"
            ]
          },
          "metadata": {},
          "execution_count": 13
        }
      ]
    },
    {
      "cell_type": "markdown",
      "source": [
        "# TASK 14\n",
        "Ստուգեք, արդյոք 2 ցուցակները 1-քայլ ցիկլիկ են:\n",
        "Օրինակ\n",
        "Ցուցակ1 = [1,2,3,4,5,6]\n",
        "Ցուցակ2 = [6,1,2,3,4,5]\n",
        "Վերադարձել True"
      ],
      "metadata": {
        "id": "jbXyVFNZOiaD"
      }
    },
    {
      "cell_type": "code",
      "source": [
        "def task14(arr1,arr2):\n",
        "  a = arr1.pop()\n",
        "  arr1.insert(0,a)\n",
        "  return arr1 == arr2\n",
        "\n",
        "task14([1,2,3,4,5,6],[6,1,2,3,4,5])"
      ],
      "metadata": {
        "colab": {
          "base_uri": "https://localhost:8080/"
        },
        "id": "HZiG-hHoOkIZ",
        "outputId": "85efaef0-7bc9-4789-dad8-8d03cfdf6992"
      },
      "execution_count": null,
      "outputs": [
        {
          "output_type": "execute_result",
          "data": {
            "text/plain": [
              "True"
            ]
          },
          "metadata": {},
          "execution_count": 14
        }
      ]
    },
    {
      "cell_type": "markdown",
      "source": [
        "#TASK 15\n",
        "Գրել ծրագիր, որը ստանւմ է թիվ, գտեք առավելագույն թիվը, որը կարող եք ստանալ՝\n",
        "ջնջելով տվյալ թվի ուղիղ մեկ թվանշանը:\n",
        "Օրինակ՝\n",
        "● For n = 152, the output should be\n",
        "deleteDigit(n) = 52;\n",
        "● For n = 1001, the output should be\n",
        "deleteDigit(n) = 101."
      ],
      "metadata": {
        "id": "R261x0txPMD1"
      }
    },
    {
      "cell_type": "code",
      "source": [
        "def task15(n):\n",
        "  arr =[]\n",
        "  n = str(n)\n",
        "  max = int(n.replace(n[0],\"\",1))\n",
        "\n",
        "  for i in range(1,len(n)):\n",
        "    new = int(n.replace(n[i],\"\",1))\n",
        "\n",
        "    if max < new: max = new\n",
        "\n",
        "  return int(max)\n",
        "\n",
        "task15(10011)"
      ],
      "metadata": {
        "colab": {
          "base_uri": "https://localhost:8080/"
        },
        "id": "d9sO7EnGPOM_",
        "outputId": "56496165-b9cc-4e7a-d13c-2caafc500dd5"
      },
      "execution_count": null,
      "outputs": [
        {
          "output_type": "execute_result",
          "data": {
            "text/plain": [
              "1011"
            ]
          },
          "metadata": {},
          "execution_count": 15
        }
      ]
    },
    {
      "cell_type": "markdown",
      "source": [
        "# TASK 16\n",
        "Գրեք ֆուկցիա որը ստանում է tuple տիպի օբյեկտ և վերադարձնում նոր tuple\n",
        "բաղկացած միայն առաջին tuple֊ի թվերից։"
      ],
      "metadata": {
        "id": "nD7PbsPfRcxO"
      }
    },
    {
      "cell_type": "code",
      "source": [
        "def task16(tupl)->tuple:\n",
        "  lis = list(tupl)\n",
        "  for i,val in enumerate(lis):\n",
        "    if type(val) != type(1): lis.pop(i)\n",
        "\n",
        "  return tuple(lis)\n",
        "\n",
        "task16((5,2,\"asd\",4,\"asdd\",5))"
      ],
      "metadata": {
        "colab": {
          "base_uri": "https://localhost:8080/"
        },
        "id": "_ZXT7aswRryi",
        "outputId": "af1e8532-5b65-4678-8851-d66a8e21c35b"
      },
      "execution_count": null,
      "outputs": [
        {
          "output_type": "execute_result",
          "data": {
            "text/plain": [
              "(5, 2, 4, 5)"
            ]
          },
          "metadata": {},
          "execution_count": 11
        }
      ]
    },
    {
      "cell_type": "markdown",
      "source": [
        "# TASK 17\n",
        "Գրեք Python ֆուկցիա որը ստանում է tuple և ցանկացաց տիպի օբյեկտ և ավելացնում\n",
        "է ստացած արժեքը tuple մեջ։"
      ],
      "metadata": {
        "id": "yIgZacZ0TElu"
      }
    },
    {
      "cell_type": "code",
      "source": [
        "def task17(tupl, a):\n",
        "  tupl = list(tupl)\n",
        "  tupl.append(a)\n",
        "  \n",
        "  return tuple(tupl)\n",
        "\n",
        "task17((5,4,\"asd\"),{\"name\":\"asd\", \"surname\":\"aaaa\"})"
      ],
      "metadata": {
        "colab": {
          "base_uri": "https://localhost:8080/"
        },
        "id": "xk438ndRTHfS",
        "outputId": "52fd48c1-4fba-4326-fc99-68124573f76c"
      },
      "execution_count": null,
      "outputs": [
        {
          "output_type": "execute_result",
          "data": {
            "text/plain": [
              "(5, 4, 'asd', {'name': 'asd', 'surname': 'aaaa'})"
            ]
          },
          "metadata": {},
          "execution_count": 17
        }
      ]
    },
    {
      "cell_type": "markdown",
      "source": [
        "# TASK 18\n",
        "Գրեք Python ֆուկցիա որը ստանում է tuple դարձնում է string։ Tuplex֊ի էլեմենտները\n",
        "ստրինգում պետք է բաժանված լինեն ‘-’ նշանով։"
      ],
      "metadata": {
        "id": "kHrecedWTjSw"
      }
    },
    {
      "cell_type": "code",
      "source": [
        "def task18(tupl):\n",
        "  tupl = list(tupl)\n",
        "  string = ''\n",
        "  \n",
        "  for i in tupl:\n",
        "    string+=str(i)\n",
        "    string+='-'\n",
        "\n",
        "  string = string[:-1]\n",
        "\n",
        "  return string\n",
        "\n",
        "task18((5,4,\"asdasd\",6,7))"
      ],
      "metadata": {
        "colab": {
          "base_uri": "https://localhost:8080/",
          "height": 35
        },
        "id": "URV4s17NTmpY",
        "outputId": "ffb20db8-9f67-4616-8622-0b5b8977e7a6"
      },
      "execution_count": null,
      "outputs": [
        {
          "output_type": "execute_result",
          "data": {
            "text/plain": [
              "'5-4-asdasd-6-7'"
            ],
            "application/vnd.google.colaboratory.intrinsic+json": {
              "type": "string"
            }
          },
          "metadata": {},
          "execution_count": 18
        }
      ]
    },
    {
      "cell_type": "markdown",
      "source": [
        "# TASK 19\n",
        "\n",
        "Գրեք Python ֆուկցիա որը ստանում է list և պետքա գտնել նրա երկարությունը առանց\n",
        "len() ֆունկցիա֊ի օգտագորձմամբ։"
      ],
      "metadata": {
        "id": "_dMkCcQeUE2M"
      }
    },
    {
      "cell_type": "code",
      "source": [
        "def len2(arr):\n",
        "  length = 0\n",
        "  copy = arr.copy()\n",
        "  while copy != []:\n",
        "    length+=1\n",
        "    copy.pop()\n",
        "\n",
        "  return length\n",
        "\n",
        "len2([5,4,5,65,4])"
      ],
      "metadata": {
        "colab": {
          "base_uri": "https://localhost:8080/"
        },
        "id": "JVFlq21iUNMQ",
        "outputId": "dbfe4cd5-b6ed-4bb5-edbf-377cd90e7466"
      },
      "execution_count": null,
      "outputs": [
        {
          "output_type": "execute_result",
          "data": {
            "text/plain": [
              "5"
            ]
          },
          "metadata": {},
          "execution_count": 19
        }
      ]
    },
    {
      "cell_type": "markdown",
      "source": [
        "# TASK 20\n",
        "Ticket numbers usually consist of an even number of digits. A ticket number is considered\n",
        "lucky if the sum of the first half of the digits is equal to the sum of the second half.\n",
        "Given a ticket number n, determine if it&#39;s lucky or not. Not using: string, list, tuple, set\n",
        "types.\n",
        "Example:\n",
        "For n = 1230, the output should be:\n",
        "is_lucky(n) = True;\n",
        "For n = 239017, the output should be\n",
        "is_lucky(n) = False."
      ],
      "metadata": {
        "id": "lbZAIGxUU1yh"
      }
    },
    {
      "cell_type": "code",
      "source": [
        "def task20(n):\n",
        "  n = [int(i) for i in str(n)]\n",
        "  \n",
        "  if len(n)%2 : return False\n",
        "\n",
        "  return sum(n[:len(n)//2]) == sum(n[len(n)//2:])"
      ],
      "metadata": {
        "id": "WEtMBco1RfL9"
      },
      "execution_count": null,
      "outputs": []
    },
    {
      "cell_type": "markdown",
      "source": [
        "# TASK 21\n",
        "Euler function is return a count of numbers not great than N, which are mutualy simple with\n",
        "N.\n",
        "Example φ(6)=2, as only 1 and 5 from 1,2,3,4,5 are mutually simple with 6. Write a function\n",
        "which return count of numbers mutually simple with given N."
      ],
      "metadata": {
        "id": "SoSOuqFNXJby"
      }
    },
    {
      "cell_type": "code",
      "source": [
        "def task21(n):\n",
        "  count = 0\n",
        "\n",
        "  for i in range(1,n):\n",
        "    if mut_simple(n,i): count+=1\n",
        "\n",
        "  return count\n",
        "\n",
        "\n",
        "def mut_simple(a,b):\n",
        "  return gcd(a,b) == 1\n",
        "\n",
        "\n",
        "def gcd(a,b):\n",
        "  while True:\n",
        "    if b>a: a,b = b,a\n",
        "\n",
        "    if a>b :\n",
        "      if a%b == 0: return b \n",
        "      a = a-b\n",
        "\n",
        "task21(6) "
      ],
      "metadata": {
        "colab": {
          "base_uri": "https://localhost:8080/"
        },
        "id": "1k1XSwRMXLYn",
        "outputId": "428ec21c-6e8e-4ffc-8013-5f1b3c13c49b"
      },
      "execution_count": null,
      "outputs": [
        {
          "output_type": "execute_result",
          "data": {
            "text/plain": [
              "2"
            ]
          },
          "metadata": {},
          "execution_count": 24
        }
      ]
    },
    {
      "cell_type": "markdown",
      "source": [
        "# TASK 22 *\n",
        "You are given a 0-indexed string array words, where words[i] consists of lowercase English\n",
        "letters. In one operation, select any index i such that 0 &lt; i &lt; words.length and words[i - 1]\n",
        "and words[i] are anagrams, and delete words[i] from words. Keep performing this operation\n",
        "as long as you can select an index that satisfies the conditions.\n",
        "Return words after performing all operations. It can be shown that selecting the indices for\n",
        "each operation in any arbitrary order will lead to the same result.\n",
        "An Anagram is a word or phrase formed by rearranging the letters of a different word or\n",
        "phrase using all the original letters exactly once. For example, &quot;dacb&quot; is an anagram of\n",
        "&quot;abdc&quot;.\n",
        "\n",
        "\n",
        "Example:\n",
        "Input: words = [&quot;abba&quot;,&quot;baba&quot;,&quot;bbaa&quot;,&quot;cd&quot;,&quot;cd&quot;]\n",
        "Output: [&quot;abba&quot;,&quot;cd&quot;]"
      ],
      "metadata": {
        "id": "F8qpST3FRdl_"
      }
    },
    {
      "cell_type": "code",
      "source": [
        "def make_dir_from_str(a):\n",
        "  obj = {}\n",
        "\n",
        "  for i in a:\n",
        "    if i not in obj: obj[i] = 1\n",
        "    else: obj[i]+=1\n",
        "\n",
        "  return obj\n",
        "\n",
        "\n",
        "def task22(lists):\n",
        "  check=[]\n",
        "  ret = []\n",
        "\n",
        "  for i in lists:\n",
        "    if make_dir_from_str(i) not in check:\n",
        "      check.append(make_dir_from_str(i))\n",
        "      ret.append(i)\n",
        "\n",
        "  return ret\n",
        "\n",
        "\n",
        "lists = [\"abba\",\"baba\",\"bbaa\",\"cd\",\"cd\"]\n",
        "print(task22(lists))\n",
        "print(task22(['a','b','a']))"
      ],
      "metadata": {
        "colab": {
          "base_uri": "https://localhost:8080/"
        },
        "id": "LnlRsISwYuV1",
        "outputId": "11215e72-575a-4429-b2d2-fcb768e521d2"
      },
      "execution_count": null,
      "outputs": [
        {
          "output_type": "stream",
          "name": "stdout",
          "text": [
            "['abba', 'cd']\n",
            "['a', 'b']\n"
          ]
        }
      ]
    },
    {
      "cell_type": "markdown",
      "source": [
        "# TASK 23 **\n",
        "You are given an array of strings names, and an array heights that consists of distinct\n",
        "positive integers. Both arrays are of length n. For each index i, names[i] and heights[i]\n",
        "denote the name and height of the ith person. Return names sorted in descending\n",
        "order by the people&#39;s heights.\n",
        "Example 1:\n",
        "Input: names = [&quot;Mary&quot;,&quot;John&quot;,&quot;Emma&quot;], heights = [180,165,170]\n",
        "Output: [&quot;Mary&quot;,&quot;Emma&quot;,&quot;John&quot;]\n",
        "Explanation: Mary is the tallest, followed by Emma and John.\n",
        "Example 2:\n",
        "Input: names = [&quot;Alice&quot;,&quot;Bob&quot;,&quot;Bob&quot;], heights = [155,185,150]\n",
        "Output: [&quot;Bob&quot;,&quot;Alice&quot;,&quot;Bob&quot;]\n",
        "Explanation: The first Bob is the tallest, followed by Alice and the second Bob."
      ],
      "metadata": {
        "id": "iyHScrA8awr2"
      }
    },
    {
      "cell_type": "code",
      "source": [
        "def task23(n,h):\n",
        "  dir = dict(zip(n,h))\n",
        "  keys = sorted(dir.keys(), reverse=True)\n",
        "\n",
        "  return [dir[i] for i in keys]\n",
        "\n",
        "print(task23([180,165,170],[\"Mary\",\"John\",\"Emma\"]))\n",
        "print(task23([155,185,150],[\"Alice\",\"Bob\",\"Bob\"]))"
      ],
      "metadata": {
        "id": "VaSELJDHbMSf",
        "colab": {
          "base_uri": "https://localhost:8080/"
        },
        "outputId": "de1378f2-948d-43a4-9563-e4d3eaebb940"
      },
      "execution_count": null,
      "outputs": [
        {
          "output_type": "stream",
          "name": "stdout",
          "text": [
            "['Mary', 'Emma', 'John']\n",
            "['Bob', 'Alice', 'Bob']\n"
          ]
        }
      ]
    },
    {
      "cell_type": "markdown",
      "source": [
        "# TASK 24 ***\n",
        "In a special ranking system, each voter gives a rank from highest to lowest to all\n",
        "teams participating in the competition.\n",
        "The ordering of teams is decided by who received the most position-one votes. If two\n",
        "or more teams tie in the first position, we consider the second position to resolve the\n",
        "conflict, if they tie again, we continue this process until the ties are resolved. If two or\n",
        "more teams are still tied after considering all positions, we rank them alphabetically\n",
        "based on their team letter.\n",
        "\n",
        "\n",
        "You are given an array of strings votes which is the votes of all voters in the ranking\n",
        "systems. Sort all teams according to the ranking system described above.\n",
        "Return a string of all teams sorted by the ranking system.\n",
        "\n",
        "\n",
        "Example 1:\n",
        "Input: votes = [&quot;ABC&quot;,&quot;ACB&quot;,&quot;ABC&quot;,&quot;ACB&quot;,&quot;ACB&quot;]\n",
        "Output: &quot;ACB&quot;\n",
        "Explanation:\n",
        "Team A was ranked first place by 5 voters. No other team was voted as first place, so team\n",
        "A is the first team.\n",
        "Team B was ranked second by 2 voters and ranked third by 3 voters.\n",
        "Team C was ranked second by 3 voters and ranked third by 2 voters.\n",
        "As most of the voters ranked C second, team C is the second team, and team B is the third.\n",
        "\n",
        "\n",
        "Example 2:\n",
        "Input: votes = [&quot;WXYZ&quot;,&quot;XYZW&quot;]\n",
        "Output: &quot;XWYZ&quot;\n",
        "Explanation:\n",
        "X is the winner due to the tie-breaking rule. X has the same votes as W for the first position,\n",
        "but X has one vote in the second position, while W does not have any votes in the second\n",
        "position.\n",
        "\n",
        "\n",
        "Example 3:\n",
        "Input: votes = [&quot;ZMNAGUEDSJYLBOPHRQICWFXTVK&quot;]\n",
        "Output: &quot;ZMNAGUEDSJYLBOPHRQICWFXTVK&quot;\n",
        "Explanation: Only one voter, so their votes are used for the ranking."
      ],
      "metadata": {
        "id": "meYHDSJFmrGT"
      }
    },
    {
      "cell_type": "code",
      "source": [
        "# votes1 = [\"ABC\",\"ACB\",\"ABC\",\"ACB\",\"ACB\"]\n",
        "# votes2 = [\"WXYZ\",\"XYZW\"]\n",
        "# votes3 = [\"ZMNAGUEDSJYLBOPHRQICWFXTVK\"]\n",
        "\n",
        "# def task24(votes):\n",
        "#   dir={}\n",
        "#   for i in str(votes[0]): dir[i] = 0\n",
        "\n",
        "#   for vote in votes:\n",
        "#     for ind in range(len(vote)):      \n",
        "#       dir[vote[ind]] += ind+1\n",
        "\n",
        "#   dir = sorted(dir.items(), key=lambda kv: (kv[1], kv[0]))\n",
        "#   return ''.join([item[0] for item in dir])\n",
        "\n",
        "\n",
        "# print(task24(votes1))\n",
        "# print(task24(votes2))\n",
        "# print(task24(votes3))"
      ],
      "metadata": {
        "colab": {
          "base_uri": "https://localhost:8080/"
        },
        "id": "B6BGfgt2mzq5",
        "outputId": "6c5d0b4f-b948-4c23-9963-a2ffd29baac5"
      },
      "execution_count": null,
      "outputs": [
        {
          "output_type": "stream",
          "name": "stdout",
          "text": [
            "ACB\n",
            "XWYZ\n",
            "ZMNAGUEDSJYLBOPHRQICWFXTVK\n"
          ]
        }
      ]
    }
  ]
}