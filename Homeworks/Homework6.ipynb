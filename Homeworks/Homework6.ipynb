{
  "cells": [
    {
      "cell_type": "markdown",
      "metadata": {
        "id": "kPG9T6f_05Ny"
      },
      "source": [
        "# DateTime"
      ]
    },
    {
      "cell_type": "markdown",
      "metadata": {
        "id": "I8VACROt5Biy"
      },
      "source": [
        "1. Write classes: DateTime, Money, MyRange, Doctor, Teacher, Student, University\n",
        "and City.\n",
        "2. Emplement Money class to Teacher, Doctor and Job classes as salary.\n",
        "3. Add magic functions to Date and Time classes.\n",
        "4. Change data members to private in Date, Time, Person, Job and Company\n",
        "classes. If it is necessary you can change data methods to private also.\n",
        "5. Write get and set functions with property decorator for Date, Time, Person, Job\n",
        "and Company classes as in class.\n",
        "6. For each class create ErrorExecption class and implement it to that class.\n",
        "For example Money class should have MoneyError class.\n",
        "7. Fix specific case in Date class.\n",
        "8. Add homeworks in github\n",
        "9. Always write tests for classes, that I can see how you test your class.\n",
        "10. Create a decorator that counts the number of times a function has been called."
      ]
    },
    {
      "cell_type": "code",
      "execution_count": null,
      "metadata": {
        "id": "4ILAud4X5TCj"
      },
      "outputs": [],
      "source": [
        "class DayRangeError(Exception):\n",
        "    min_d = 0\n",
        "\n",
        "    def __init__(self, val, max):#, *args):\n",
        "        # super().__init__(args)\n",
        "        self.val = val\n",
        "        self.max_d = max\n",
        "\n",
        "    def __str__(self):   return f'{self.val} is not in valid range {self.min_d},{self.max_d}.'\n",
        "\n",
        "\n",
        "class MonthRangeError(Exception):\n",
        "    min_m = 0\n",
        "    max_m = 12\n",
        "\n",
        "    def __init__(self, val, *args):\n",
        "        super().__init__(args)\n",
        "        self.val = val\n",
        "\n",
        "    def __str__(self):   return f'{self.val} is not in valid range {self.min_m},{self.max_m}.'\n",
        "\n",
        "\n",
        "class YearRangeError(Exception):\n",
        "    min_y = 0\n",
        "\n",
        "    def __init__(self, val, *args):\n",
        "        super().__init__(args)\n",
        "        self.val = val\n",
        "\n",
        "    def __str__(self):   return f'{self.val} is not in negative. Or you meant B.C. ?'\n",
        "\n",
        "\n",
        "class SecondRangeError(Exception):\n",
        "    min_s = 0\n",
        "    max_s = 59\n",
        "    def __init__(self, val, *args):\n",
        "        super().__init__(args)\n",
        "        self.val = val\n",
        "\n",
        "    def __str__(self):   return f'{self.val} is not in valid range {self.min_s},{self.max_s}.'\n",
        "\n",
        "\n",
        "class MinuteRangeError(Exception):\n",
        "    min_m = 0\n",
        "    max_m = 59\n",
        "\n",
        "    def __init__(self, val, *args):\n",
        "        super().__init__(args)\n",
        "        self.val = val\n",
        "\n",
        "    def __str__(self):   return f'{self.val} is not in valid range {self.min_m},{self.max_m}.'\n",
        "\n",
        "\n",
        "class HourRangeError(Exception):\n",
        "    min_h = 0\n",
        "    max_h = 24\n",
        "\n",
        "    def __init__(self, val, *args):\n",
        "        super().__init__(args)\n",
        "        self.val = val\n",
        "\n",
        "    def __str__(self):   return f'{self.val} is not in valid range {self.min_h},{self.max_h}.'\n"
      ]
    },
    {
      "cell_type": "code",
      "execution_count": null,
      "metadata": {
        "id": "B3Eu9pXf3-o0"
      },
      "outputs": [],
      "source": [
        "class Date:\n",
        "\n",
        "  def __init__(self,year = 1970,month = 1,day = 1):\n",
        "\n",
        "    self.year = year\n",
        "    self.month = month\n",
        "    self.day = day\n",
        "\n",
        "    self.__is_leap_year = True if self.year%4 == 0 else False\n",
        "    self.month_days = {1:31,2:28 if self.__is_leap_year else 29,3:31,4:30,5:31,6:30,7:31,8:31,9:30,10:31,11:30,12:31}\n",
        "\n",
        "    \n",
        "\n",
        "  def __repr__(self):\n",
        "    return \"{}.{}.{}\".format(self.day,self.month,self.year)\n",
        "\n",
        "\n",
        "\n",
        "  def __add__(self, other):\n",
        "    self.add_year(other.year)\n",
        "    self.add_month(other.month)\n",
        "    self.add_day(other.day)\n",
        "    return self\n",
        "\n",
        "\n",
        "  def set_date(self,y,m,d):\n",
        "\n",
        "    if y < YearRangeError.min_y: \n",
        "        raise YearRangeError(y)\n",
        "    else: \n",
        "        self.year = y\n",
        "\n",
        "\n",
        "    self.__is_leap_year = True if self.year%4 == 0 else False\n",
        "    self.month_days = {1:31,2:28 if self.__is_leap_year else 29,3:31,4:30,5:31,6:30,7:31,8:31,9:30,10:31,11:30,12:31}\n",
        "\n",
        "\n",
        "    if m < MonthRangeError.min_m or m > MonthRangeError.max_m: \n",
        "       raise MonthRangeError(m)\n",
        "    else: \n",
        "        self.month = m\n",
        "\n",
        "        \n",
        "    if d < DayRangeError.min_d or d > self.month_days[self.month]: \n",
        "      raise DayRangeError(d, self.month_days[self.month])\n",
        "    else: \n",
        "      self.day = d\n",
        "\n",
        "\n",
        "  def get_date(self):\n",
        "    return self.year, self.month, self.day\n",
        "\n",
        "\n",
        "  def __inc_month(self): \n",
        "    if self.month != 12:\n",
        "      self.month += 1\n",
        "    else:\n",
        "      self.year += 1\n",
        "      self.month = 1\n",
        " \n",
        "\n",
        "  def __inc_year(self): \n",
        "    self.year += 1\n",
        "\n",
        "\n",
        "  def add_day(self,days: int):\n",
        "\n",
        "    mnac = self.month_days[self.month] - self.day\n",
        "    if days <= mnac: \n",
        "      self.day += days\n",
        "      return\n",
        "\n",
        "    days-=mnac\n",
        "    self.__inc_month()\n",
        "\n",
        "    \n",
        "    while True:\n",
        "\n",
        "      # ete days-y poqr a amsva oreri qanakic cikly avartum enq\n",
        "      if days <= self.month_days[self.month]:\n",
        "        self.day = days\n",
        "        break\n",
        "\n",
        "      # days-ic hanum a mi amis u amisy avelacnum \n",
        "      days -= self.month_days[self.month]\n",
        "      self.__inc_month()\n",
        "\n",
        "\n",
        "  def add_month(self,months: int):\n",
        "\n",
        "      while True:\n",
        "\n",
        "        if self.month + months <= 12: \n",
        "          self.month += months\n",
        "          if self.day >= self.month_days[self.month]:\n",
        "            self.day = self.month_days[self.month]\n",
        "            pass\n",
        "          break\n",
        "        else:\n",
        "          months-=12\n",
        "          self.__inc_year()\n",
        "\n",
        "  def add_year(self,years: int):\n",
        "    self.year += years\n",
        "\n",
        "\n",
        "\n",
        "      "
      ]
    },
    {
      "cell_type": "code",
      "execution_count": null,
      "metadata": {
        "colab": {
          "base_uri": "https://localhost:8080/"
        },
        "id": "s6hqXdLimyEx",
        "outputId": "22d2d073-8429-45a5-ace4-6078b240a942"
      },
      "outputs": [
        {
          "output_type": "stream",
          "name": "stdout",
          "text": [
            "20.8.1512\n",
            "20.8.1512\n"
          ]
        }
      ],
      "source": [
        "# Sub Days\n",
        "s = Date()\n",
        "s.set_date(1512,8,20)\n",
        "print(s)\n",
        "# s.sub_day(39)\n",
        "print(s)"
      ]
    },
    {
      "cell_type": "code",
      "execution_count": null,
      "metadata": {
        "colab": {
          "base_uri": "https://localhost:8080/"
        },
        "id": "Yp3aa5XVjOyw",
        "outputId": "567e0a0e-7986-41ce-ac0f-7de9628ec6f9"
      },
      "outputs": [
        {
          "output_type": "stream",
          "name": "stdout",
          "text": [
            "31.8.1500\n",
            "31.8.1500\n"
          ]
        }
      ],
      "source": [
        "# Sub Months\n",
        "s = Date()\n",
        "s.set_date(1500,8,31)\n",
        "print(s)\n",
        "# s.sub_month(9)\n",
        "print(s)"
      ]
    },
    {
      "cell_type": "code",
      "execution_count": null,
      "metadata": {
        "id": "8plR8rNB5zOS"
      },
      "outputs": [],
      "source": [
        "class Time:\n",
        "\n",
        "  def __init__(self,hour=0,minute=0,second=0):\n",
        "\n",
        "    self.hour = hour\n",
        "    self.minute = minute\n",
        "    self.second = second\n",
        "\n",
        "\n",
        "  def __repr__(self):\n",
        "    return \"{}:{}:{}\".format(self.hour,self.minute,self.second)\n",
        "\n",
        "\n",
        "  def set_time(self,h,m,s):\n",
        "\n",
        "    if h < HourRangeError.min_h: \n",
        "      raise HourRangeError(h)\n",
        "    else: \n",
        "      self.hour = h\n",
        "\n",
        "\n",
        "    if m < MinuteRangeError.min_m or m > MinuteRangeError.max_m: \n",
        "      raise MinuteRangeError(m)\n",
        "    else: \n",
        "      self.minute = m\n",
        "\n",
        "    \n",
        "    if s < SecondRangeError.min_s or s > SecondRangeError.max_s: \n",
        "      raise SecondRangeError(s)\n",
        "    else: \n",
        "      self.second = s\n",
        "\n",
        "\n",
        "  def get_time(self):\n",
        "    return self.hour, self.minute, self.second\n",
        "\n",
        "    \n",
        "  def __inc_minutes(self): \n",
        "\n",
        "    if self.minute == 59: self.minute = 0\n",
        "    else: self.minute +=1\n",
        "\n",
        "  def __inc_hours(self): \n",
        "    \n",
        "    if self.hour == 23: self.hour = 0\n",
        "    else: self.hour +=1\n",
        "\n",
        "  def add_second(self,seconds: int):\n",
        "\n",
        "    while True:\n",
        "\n",
        "      if self.second + seconds < 60:\n",
        "        self.second = self.second + seconds\n",
        "        return True\n",
        "\n",
        "      seconds -= 60\n",
        "      self.__inc_minutes()\n",
        "\n",
        "\n",
        "  def add_minute(self,minutes: int):\n",
        "\n",
        "    while True:\n",
        "\n",
        "      if self.minute + minutes < 60:\n",
        "        self.minute = self.minute + minutes\n",
        "        return True\n",
        "\n",
        "      minutes -= 60\n",
        "      self.__inc_hours()\n",
        "\n",
        "  def add_hour(self,hours: int):\n",
        "    self.hour = (self.hour + hours) % 24"
      ]
    },
    {
      "cell_type": "code",
      "execution_count": null,
      "metadata": {
        "colab": {
          "base_uri": "https://localhost:8080/"
        },
        "id": "K7um3pvs-blp",
        "outputId": "f5433efb-ec19-4efd-f93c-f36bd443549e"
      },
      "outputs": [
        {
          "output_type": "stream",
          "name": "stdout",
          "text": [
            "1.1.1970\n",
            "20.2.12\n",
            "0:0:0\n",
            "12:20:45\n"
          ]
        }
      ],
      "source": [
        "d = Date()\n",
        "print(d)\n",
        "d.set_date(12,2,20)\n",
        "print(d)\n",
        "\n",
        "t = Time()\n",
        "print(t)\n",
        "t.set_time(12,20,45)\n",
        "print(t)"
      ]
    },
    {
      "cell_type": "code",
      "execution_count": null,
      "metadata": {
        "id": "B4BQW0Q69I8Z"
      },
      "outputs": [],
      "source": [
        "class DateTime(Date,Time):\n",
        "\n",
        "  def __init__(self):\n",
        "    Date.__init__(self)\n",
        "    Time.__init__(self)\n",
        "    self.__date = Date()\n",
        "    self.__time = Time()\n",
        "    \n",
        "  \n",
        "  def __repr__(self):\n",
        "    return f\"Year:Month:Day:Hour:Minute:Second {self.__date.year}:{self.__date.month}:{self.__date.day}:{self.__time.hour}:{self.__time.minute}:{self.__time.second}\"\n",
        "\n",
        "\n",
        "  def __add__(self, other):\n",
        "\n",
        "        self.__date.add_year(self.__date.year)\n",
        "        self.__date.add_month(self.__date.month)\n",
        "        self.__date.add_day(self.__date.day)\n",
        "        self.__time.add_hour(self.__time.hour)\n",
        "        self.__time.add_minute(self.__time.minute)\n",
        "        self.__time.add_second(self.__time.second)\n",
        "\n",
        "        return self\n",
        "\n",
        "  @property\n",
        "  def date(self): \n",
        "    return self.__date\n",
        "\n",
        "\n",
        "  @date.setter\n",
        "  def date(self, val):\n",
        "    y,m,d = val.split(\".\")\n",
        "\n",
        "    self.__date.set_date(int(y),int(m),int(d))\n",
        "\n",
        "\n",
        "  @date.getter\n",
        "  def date(self):\n",
        "    return (self.__date.year, self.__date.month, self.__date.day)\n",
        "\n",
        "\n",
        "  @property\n",
        "  def time(self):\n",
        "    return self.__time\n",
        "\n",
        "\n",
        "  @time.setter\n",
        "  def time(self,val):\n",
        "    h,m,s = val.split(\":\")\n",
        "\n",
        "    self.__time.set_time(int(h),int(m),int(s))\n",
        "\n",
        "\n",
        "  @time.getter\n",
        "  def time(self):\n",
        "    return (self.__time.hour, self.__time.minute, self.__time.second)\n",
        "\n",
        "\n",
        "\n",
        "\n",
        "  def sub_year(self, years: int):\n",
        "\n",
        "    if self.year - years > 0:\n",
        "      self.year -= years\n",
        "    else :\n",
        "      raise YearRangeError(self.year - years)\n",
        "\n",
        "\n",
        "  def sub_month(self, months: int):\n",
        "    while True:\n",
        "      if months < self.__date.month:\n",
        "        self.__date.month -= months\n",
        "        if self.__date.day > self.month_days[self.__date.month]:\n",
        "          self.__date.day = self.month_days[self.__date.month]\n",
        "        return\n",
        "\n",
        "      else:\n",
        "        self.__date.year -= 1\n",
        "        months -= 12\n",
        "\n",
        "\n",
        "  def sub_day(self, days: int):\n",
        "    \n",
        "    while True:\n",
        "      if days < self.__date.day:\n",
        "        self.__date.day -= days\n",
        "\n",
        "        return\n",
        "\n",
        "      else:\n",
        "        self.__date.month -= 1\n",
        "        self.__date.day += self.month_days[self.__date.month]\n",
        "\n",
        "\n",
        "  def sub_hour(self, hours: int):\n",
        "    while True:\n",
        "      if self.__time.hour >= hours:\n",
        "        self.__time.hour -= hours\n",
        "        return\n",
        "      else:\n",
        "        self.__time.hour += 24\n",
        "        self.sub_day(1)\n",
        "\n",
        "\n",
        "  def sub_minute(self, minutes: int):\n",
        "    while True:\n",
        "      if self.__time.minute >= minutes:\n",
        "        self.__time.minute -= minutes\n",
        "        return\n",
        "      else:\n",
        "        self.__time.minute += 60\n",
        "        self.sub_hour(1)\n",
        "\n",
        "  \n",
        "  def sub_second(self, seconds: int):\n",
        "    while True:\n",
        "      if self.__time.second >= seconds:\n",
        "        self.__time.second -= seconds\n",
        "        return\n",
        "      else:\n",
        "        self.__time.second += 60\n",
        "        self.__time.minute -= 1\n",
        "\n",
        "      "
      ]
    },
    {
      "cell_type": "code",
      "execution_count": null,
      "metadata": {
        "colab": {
          "base_uri": "https://localhost:8080/"
        },
        "id": "mKQm3GDeE7EL",
        "outputId": "d3e63a1f-bd0c-495e-dae4-c8f1f7c9f590"
      },
      "outputs": [
        {
          "output_type": "stream",
          "name": "stdout",
          "text": [
            "Year:Month:Day:Hour:Minute:Second 1970:1:1:0:0:0\n",
            "(5, 4, 4)\n",
            "(5, 4, 4)\n",
            "(11, 44, 47)\n",
            "(11, 44, 47)\n",
            "Year:Month:Day:Hour:Minute:Second 1512:8:12:11:44:47\n",
            "\n",
            "--- Sub Month (5) ---\n",
            "Year:Month:Day:Hour:Minute:Second 1512:3:12:11:44:47\n",
            "\n",
            "--- Sub Day (5) ---\n",
            "Year:Month:Day:Hour:Minute:Second 1512:3:7:11:44:47\n",
            "\n",
            "--- Sub Hour (120) ---\n",
            "Year:Month:Day:Hour:Minute:Second 1512:3:2:11:44:47\n",
            "\n",
            "--- Sub Minute (100) ---\n",
            "Year:Month:Day:Hour:Minute:Second 1512:3:2:10:4:47\n",
            "\n",
            "--- Sub Second (150) ---\n",
            "Year:Month:Day:Hour:Minute:Second 1512:3:2:10:2:17\n",
            "\n"
          ]
        }
      ],
      "source": [
        "d =DateTime()\n",
        "print(d)\n",
        "\n",
        "# date setter\n",
        "d.date = \"5.4.4\"\n",
        "print(d.date)\n",
        "\n",
        "# date getter\n",
        "x = d.date\n",
        "print(x)\n",
        "\n",
        "# time setter\n",
        "d.time = \"11:44:47\"\n",
        "print(d.time)\n",
        "\n",
        "# time getter\n",
        "x = d.time\n",
        "print(x)\n",
        "\n",
        "\n",
        "d.date = '1512.8.12'\n",
        "print(d)\n",
        "print()\n",
        "\n",
        "a = d\n",
        "\n",
        "# Sub Month\n",
        "d.sub_month(5)\n",
        "print(\"--- Sub Month (5) ---\")\n",
        "print(d)\n",
        "print()\n",
        "\n",
        "\n",
        "# Sub Day\n",
        "\n",
        "d.sub_day(5)\n",
        "print(\"--- Sub Day (5) ---\")\n",
        "print(d)\n",
        "print()\n",
        "\n",
        "# Sub Hours\n",
        "d.sub_hour(120)\n",
        "print(\"--- Sub Hour (120) ---\")\n",
        "print(d)\n",
        "print()\n",
        "\n",
        "# Sub Minutes\n",
        "d.sub_minute(100)\n",
        "print(\"--- Sub Minute (100) ---\")\n",
        "print(d)\n",
        "print()\n",
        "\n",
        "# Sub Seconds\n",
        "d.sub_second(150)\n",
        "print(\"--- Sub Second (150) ---\")\n",
        "print(d)\n",
        "print()\n",
        "\n",
        "b = d"
      ]
    },
    {
      "cell_type": "markdown",
      "metadata": {
        "id": "kzsfPbB60yBl"
      },
      "source": [
        "#Money"
      ]
    },
    {
      "cell_type": "markdown",
      "metadata": {
        "id": "ZkXgeNfJ00Oq"
      },
      "source": [
        "Class Money\n",
        "Some Logic:\n",
        "If we have 2 objects with different currency we need to have some conversation\n",
        "method. Try to come up with some exchange logic. Here is some note for you.\n",
        "Use class variable.\n",
        "exchange = {&#39;AMD&#39;: 1, &#39;RUB&#39;: 5.8, &#39;USD&#39;: 400, &#39;EUR&#39;: 430}\n",
        "Data members:\n",
        "1. amount: integer\n",
        "2. currency: string\n",
        "Data methods:\n",
        "1. __init__\n",
        "2. __repr__\n",
        "3. get_amount (name=amount)\n",
        "4. set_amount (name=amount)\n",
        "5. get_currency (name=currency)\n",
        "6. set_currency (name=currency)\n",
        "7. conversation\n",
        "8. __add__, 9. __sub__, 10. __truediv__, 11. __eq__\n",
        "12. __ne__, 13. __lt__, 14. __gt__, 15. __le__, 16. __ge__"
      ]
    },
    {
      "cell_type": "code",
      "execution_count": null,
      "metadata": {
        "id": "yqujFcDS2O19",
        "colab": {
          "base_uri": "https://localhost:8080/"
        },
        "outputId": "577feb36-2c6c-489c-840b-69f568df6e63"
      },
      "outputs": [
        {
          "output_type": "stream",
          "name": "stdout",
          "text": [
            "Looking in indexes: https://pypi.org/simple, https://us-python.pkg.dev/colab-wheels/public/simple/\n",
            "Collecting currency-symbols\n",
            "  Downloading currency_symbols-2.0.3-py3-none-any.whl (5.0 kB)\n",
            "Installing collected packages: currency-symbols\n",
            "Successfully installed currency-symbols-2.0.3\n"
          ]
        }
      ],
      "source": [
        "! pip3 install currency-symbols\n",
        "from currency_symbols import CurrencySymbols as symbols"
      ]
    },
    {
      "cell_type": "code",
      "source": [
        "class MoneyError(Exception):\n",
        "\n",
        "    def __init__(self, val):\n",
        "      self.val = val\n",
        "\n",
        "    def __str__(self):   \n",
        "      return f'Money can\\'t be negative: {self.val}.'\n"
      ],
      "metadata": {
        "id": "qP-3jhw12fum"
      },
      "execution_count": null,
      "outputs": []
    },
    {
      "cell_type": "code",
      "execution_count": null,
      "metadata": {
        "id": "HPD5ApKZ1CVQ"
      },
      "outputs": [],
      "source": [
        "class Money:\n",
        "\n",
        "  def __init__(self, amount, currency):\n",
        "    if amount < 0: raise MoneyError(amount)\n",
        "    else: self.__amount = amount      \n",
        "    self.__curr = currency\n",
        "    self.__exchange_rate = {\"AMD\": 1, \"RUB\": 5.8, \"USD\": 400, \"EUR\": 430}\n",
        "\n",
        "  def __repr__(self):\n",
        "\n",
        "    curs = {\"AMD\": symbols.get_symbol(\"AMD\"),\n",
        "            \"USD\": symbols.get_symbol(\"USD\"),\n",
        "            \"EUR\": symbols.get_symbol(\"EUR\"),\n",
        "            \"RUB\": symbols.get_symbol(\"RUB\")}\n",
        "\n",
        "    return f'{self.__amount} {curs[self.__curr]}'\n",
        "\n",
        "\n",
        "  # Amount # \n",
        "\n",
        "  @property\n",
        "  def amount(self):\n",
        "    return self.__amount\n",
        "\n",
        "  @amount.setter\n",
        "  def amount(self, val):\n",
        "    if val < 0: raise MoneyError(val)\n",
        "    else: self.__amount = val\n",
        "\n",
        "  @amount.getter\n",
        "  def amount(self):\n",
        "    return self.__amount\n",
        "\n",
        "  # Currency #\n",
        "\n",
        "  @property\n",
        "  def currency(self):\n",
        "    return self.__curr\n",
        "\n",
        "  @currency.setter\n",
        "  def currency(self, val):\n",
        "    self.__curr = val\n",
        "\n",
        "  @currency.getter\n",
        "  def currency(self):\n",
        "    return self.__curr\n",
        "  \n",
        "\n",
        "  def exchange(self, currency):\n",
        "    '''\n",
        "    Exchange function method is not INPLACE, means to exchange the currency\n",
        "    of the instance you need to assign the change to it.\n",
        "\n",
        "    Example.\n",
        "\n",
        "    m = Money(1500,\"AMD\")\n",
        "\n",
        "    m.exchange(\"RUB)  =>  m = 1500 ֏\n",
        "    but\n",
        "    m = m.exchange(\"RUB)  => m = 258.62068965517244 ₽\n",
        "\n",
        "    '''\n",
        "\n",
        "    temp = Money(0,\"AMD\")\n",
        "\n",
        "    exch_rate = self.__exchange_rate[self.__curr] / self.__exchange_rate[currency]\n",
        "    temp.__amount = self.__amount * exch_rate\n",
        "    temp.__curr = currency\n",
        "\n",
        "    return temp\n",
        "\n",
        "\n",
        "  def __add__(self, other):\n",
        "    ret = Money(0,\"AMD\")\n",
        "\n",
        "    ret.__amount = self.__amount + other.exchange(self.__curr).__amount\n",
        "    ret.__curr = self.__curr\n",
        "\n",
        "    return ret\n",
        "\n",
        "\n",
        "  def __sub__(self, other):\n",
        "    ret = Money(0,\"AMD\")\n",
        "\n",
        "    ret.__amount = self.__amount - other.exchange(self.__curr).__amount\n",
        "    ret.__curr = self.__curr\n",
        "\n",
        "    return ret\n",
        "\n",
        "\n",
        "  def __truediv__(self,other):\n",
        "    ret = Money(0,\"AMD\")\n",
        "\n",
        "    ret.__amount = self.__amount / other.exchange(self.__curr).__amount\n",
        "    ret.__curr = self.__curr\n",
        "\n",
        "    return ret\n",
        "    \n",
        "\n",
        "  def __eq__(self,other):\n",
        "    return float(self.__amount) == other.exchange(self.__curr).__amount\n",
        "\n",
        "\n",
        "  def __ne__(self,other):\n",
        "    return float(self.__amount) != other.exchange(self.__curr).__amount\n",
        "\n",
        "\n",
        "  def __lt__(self,other):\n",
        "    return float(self.__amount) < other.exchange(self.__curr).__amount\n",
        "\n",
        "\n",
        "  def __gt__(self,other):\n",
        "    return float(self.__amount) > other.exchange(self.__curr).__amount\n",
        "\n",
        "\n",
        "  def __le__(self,other):\n",
        "    return float(self.__amount) <= other.exchange(self.__curr).__amount\n",
        "\n",
        "\n",
        "  def __ge__(self,other):\n",
        "    return float(self.__amount) >= other.exchange(self.__curr).__amount    "
      ]
    },
    {
      "cell_type": "code",
      "source": [
        "mon1 = Money(300,\"AMD\") \n",
        "mon2 = Money(0,\"AMD\") \n",
        "\n",
        "print(mon1 + mon2)\n",
        "\n",
        "print(mon1)\n",
        "print(mon2)"
      ],
      "metadata": {
        "colab": {
          "base_uri": "https://localhost:8080/"
        },
        "id": "fa6XkeQAgw7n",
        "outputId": "aedeeb07-6c0e-4c47-9734-9b2da3291eb7"
      },
      "execution_count": null,
      "outputs": [
        {
          "output_type": "stream",
          "name": "stdout",
          "text": [
            "300.0 ֏\n",
            "300 ֏\n",
            "0 ֏\n"
          ]
        }
      ]
    },
    {
      "cell_type": "code",
      "execution_count": null,
      "metadata": {
        "id": "k3tPT2eZ8SPY",
        "colab": {
          "base_uri": "https://localhost:8080/"
        },
        "outputId": "058c125c-e3d8-418a-b661-8a89949e8b08"
      },
      "outputs": [
        {
          "output_type": "stream",
          "name": "stdout",
          "text": [
            "1500 ֏\n",
            "258.62068965517244 ₽\n"
          ]
        }
      ],
      "source": [
        "m = Money(1500,\"AMD\")\n",
        "print(m)\n",
        "\n",
        "m = m.exchange(\"RUB\")\n",
        "print(m)"
      ]
    },
    {
      "cell_type": "markdown",
      "source": [
        "# MyRange"
      ],
      "metadata": {
        "id": "lQNqZk58owut"
      }
    },
    {
      "cell_type": "markdown",
      "source": [
        "    Class MyRange\n",
        "    Data members:\n",
        "        1. current\n",
        "        2. end\n",
        "        3. step\n",
        "    Data methods:\n",
        "        1. __init__\n",
        "        2. __repr__\n",
        "        3. __iter__\n",
        "        4. __next__\n",
        "        5. __len__\n",
        "        6. __getitem__\n",
        "        7. __reversed__"
      ],
      "metadata": {
        "id": "8TKQuweurCCU"
      }
    },
    {
      "cell_type": "code",
      "source": [
        "class MyRange():\n",
        "  def __init__(self, start = 0, end=0, step=1):\n",
        "\n",
        "    self.start = start\n",
        "    self.current = start\n",
        "    self.end = end\n",
        "    self.step = step\n",
        "\n",
        "  def __repr__(self):\n",
        "    return f'From:{self.current} To:{self.end} Step:{self.step}'\n",
        "\n",
        "  \n",
        "  def __iter__(self):\n",
        "      return self\n",
        "  \n",
        "  \n",
        "  def __next__(self):\n",
        "    if self.current >= self.end:\n",
        "      raise StopIteration\n",
        "    else:\n",
        "      cur = self.current\n",
        "      self.current += self.step\n",
        "      return cur\n",
        "\n",
        "\n",
        "  def __len__(self):\n",
        "    return (self.end - self.start) // self.step +1\n",
        "\n",
        "\n",
        "  def __getitem__(self, index):\n",
        "    #ete minusov a \n",
        "    if index < 0:\n",
        "      index = len(self) + index\n",
        "\n",
        "    if index < 0 or index > len(self):\n",
        "      raise IndexError(\"Index out of range\")\n",
        "    current = self.start + index * self.step\n",
        "    if current > self.end:\n",
        "      raise IndexError(\"Index out of range\")\n",
        "\n",
        "    return current\n",
        "\n",
        "  \n",
        "  def __reversed__(self):\n",
        "    # cur-y darav verjin andamy\n",
        "    cur = self.end - self.step\n",
        "    #qani der poqr a sharunakum enq\n",
        "    while cur >= self.start:\n",
        "      yield cur\n",
        "      cur -= self.step"
      ],
      "metadata": {
        "id": "HRnOzCqRowbX"
      },
      "execution_count": null,
      "outputs": []
    },
    {
      "cell_type": "code",
      "source": [
        "a = MyRange(0, 11, 2)\n",
        "\n",
        "#__next__\n",
        "print(\"Printing with __next__:\")\n",
        "for i in (a): print(i)\n",
        "print()\n",
        "\n",
        "#__repr__\n",
        "print(\"__repr__\")\n",
        "print(a,\"\\n\")\n",
        "\n",
        "#__len__\n",
        "print(\"__len__\")\n",
        "print(len(a),\"\\n\")\n",
        "\n",
        "#__getitem__\n",
        "print(\"__getitem__\")\n",
        "print(a[2],\"\\n\")\n",
        "\n",
        "#__reversed__\n",
        "print(\"Printing reversed range: \")\n",
        "for i in reversed(a): print(i)\n",
        "print()"
      ],
      "metadata": {
        "colab": {
          "base_uri": "https://localhost:8080/"
        },
        "id": "iAaiKnSqBOp1",
        "outputId": "6bda75e9-213b-4a5b-a29c-1798213738a6"
      },
      "execution_count": null,
      "outputs": [
        {
          "output_type": "stream",
          "name": "stdout",
          "text": [
            "Printing with __next__:\n",
            "0\n",
            "2\n",
            "4\n",
            "6\n",
            "8\n",
            "10\n",
            "\n",
            "__repr__\n",
            "From:12 To:11 Step:2 \n",
            "\n",
            "__len__\n",
            "6 \n",
            "\n",
            "__getitem__\n",
            "4 \n",
            "\n",
            "Printing reversed range: \n",
            "9\n",
            "7\n",
            "5\n",
            "3\n",
            "1\n",
            "\n"
          ]
        }
      ]
    },
    {
      "cell_type": "markdown",
      "source": [
        "# Person"
      ],
      "metadata": {
        "id": "1Mr6kFjcG6MT"
      }
    },
    {
      "cell_type": "code",
      "source": [
        "class Person:\n",
        "\n",
        "  def __init__(self,n,s,a):\n",
        "    \n",
        "    self.name = n\n",
        "    self.surname = s\n",
        "    self.age = a\n",
        "\n",
        "  def __repr__(self):\n",
        "    return f'{self.name} {self.surname}: {self.age}'\n",
        "\n",
        "\n",
        "  def fullname(self):\n",
        "    return f'{self.name} {self.surname}'"
      ],
      "metadata": {
        "id": "bulLk2-4HAUJ"
      },
      "execution_count": null,
      "outputs": []
    },
    {
      "cell_type": "markdown",
      "source": [
        "# Doctor"
      ],
      "metadata": {
        "id": "6FCwLnAMIprI"
      }
    },
    {
      "cell_type": "markdown",
      "source": [
        "    Data members:\n",
        "      1. Person class data members\n",
        "      2. department: string\n",
        "      3. profession: string\n",
        "      4. patronymic: string\n",
        "      5. salary: integer\n",
        "      \n",
        "    Data methods:\n",
        "      1. __init__\n",
        "      2. __repr__\n",
        "      3. set_department (name=department)\n",
        "      4. get_department (name=department)\n",
        "      5. set_profession (name=profession)\n",
        "      6. get_profession (name=profession)\n",
        "      7. get_patronymic (name=patronymic)\n",
        "      8. get_salary (name=salary)\n",
        "      9. set_salary (name=salary)"
      ],
      "metadata": {
        "id": "wWVpGi6MIw97"
      }
    },
    {
      "cell_type": "code",
      "source": [
        "class Doctor(Person):\n",
        "\n",
        "  def __init__(self,n,s,a):\n",
        "    super().__init__(n,s,a)\n",
        "    self.__department = None\n",
        "    self.__profession = None\n",
        "    self.__patronmyic = None\n",
        "    self.__salary = None\n",
        "\n",
        "\n",
        "  def __repr__(self):\n",
        "    return f''' \n",
        "    {\"Name:\":<3}{self.name:>13}\n",
        "    {\"Surname:\":<3}{self.surname:>13} \n",
        "    {\"Patronymic:\":<5}{self.__patronmyic:>11} \n",
        "    {\"Age:\":<3}{self.age:>13} \n",
        "    {\"Department:\":<3}{self.__department:>13} \n",
        "    {\"Profession:\":<3}{self.__profession:>13} \n",
        "    {\"Salary:\":<3}{self.__salary:>11}\n",
        "    '''\n",
        "\n",
        "\n",
        "  # --DEPARTMENT--\n",
        "  @property\n",
        "  def department(self):\n",
        "    return self.__department\n",
        "\n",
        "  @department.setter\n",
        "  def department(self, val):\n",
        "    self.__department = val\n",
        "\n",
        "  @department.getter\n",
        "  def department(self):\n",
        "    return self.__department\n",
        "\n",
        "\n",
        "  # --PROFESSION--\n",
        "  @property\n",
        "  def profession(self):\n",
        "    return self.__profession\n",
        "\n",
        "  @profession.setter\n",
        "  def profession(self, val):\n",
        "    self.__profession = val\n",
        "\n",
        "  @profession.getter\n",
        "  def profession(self):\n",
        "    return self.__profession\n",
        "\n",
        "\n",
        "  # --PATRONYMIC--\n",
        "  @property\n",
        "  def patronymic(self):\n",
        "    return self.__patronmyic\n",
        "\n",
        "  @patronymic.getter\n",
        "  def patronymic(self):\n",
        "    return self.__patronmyic\n",
        "\n",
        "  @patronymic.setter\n",
        "  def patronymic(self,val):\n",
        "    self.__patronmyic = val\n",
        "\n",
        "\n",
        "  # --SALARY--\n",
        "  @property\n",
        "  def salary(self):\n",
        "    return self.__salary\n",
        "\n",
        "  @salary.setter\n",
        "  def salary(self, val):\n",
        "    self.__salary = val\n",
        "\n",
        "  @salary.getter\n",
        "  def salary(self):\n",
        "    return self.__salary"
      ],
      "metadata": {
        "id": "DXehgiv1IwQo"
      },
      "execution_count": null,
      "outputs": []
    },
    {
      "cell_type": "code",
      "source": [
        "d = Doctor(\"Name\",\"Surname\",\"Age\")\n",
        "d.department = \"Department\"\n",
        "d.patronymic = \"Hayranun\"\n",
        "d.profession = \"Profession\"\n",
        "d.salary = 1500\n",
        "print(d)"
      ],
      "metadata": {
        "colab": {
          "base_uri": "https://localhost:8080/"
        },
        "id": "fAzGdaDzKtCW",
        "outputId": "2eb1afcd-7ee3-4689-8287-b248c47899b6"
      },
      "execution_count": null,
      "outputs": [
        {
          "output_type": "stream",
          "name": "stdout",
          "text": [
            " \n",
            "    Name:         Name\n",
            "    Surname:      Surname \n",
            "    Patronymic:   Hayranun \n",
            "    Age:          Age \n",
            "    Department:   Department \n",
            "    Profession:   Profession \n",
            "    Salary:       1500\n",
            "    \n"
          ]
        }
      ]
    },
    {
      "cell_type": "markdown",
      "source": [
        "# City"
      ],
      "metadata": {
        "id": "NmerSqWJSjhf"
      }
    },
    {
      "cell_type": "markdown",
      "source": [
        "      Class City\n",
        "    Data members:\n",
        "        1. name: string\n",
        "        2. mayor: Person class\n",
        "        3. population: integer\n",
        "        4. language: string\n",
        "    Data methods:\n",
        "        1. __init__\n",
        "        2. __repr__\n",
        "        3. get_name (name=name)\n",
        "        4. set_name (name=name)\n",
        "        5. get_mayor (name=mayor)\n",
        "        6. set_mayor (name=mayor)\n",
        "        7. get_population (name=population)\n",
        "        8. set_population (name=population)\n",
        "        9. get_language (name=language)"
      ],
      "metadata": {
        "id": "cu7fndmoSk04"
      }
    },
    {
      "cell_type": "code",
      "source": [
        "class City:\n",
        "  def __init__(self, n, m: Person, p, l):\n",
        "    self.__name = n\n",
        "    self.__mayor = m\n",
        "    self.__pop = p\n",
        "    self.__lang = l\n",
        "\n",
        "\n",
        "  def __repr__(self):\n",
        "    return f'''\n",
        "    {\"Name:\":<15}{self.__name}\n",
        "    {\"Mayor:\":<15}{self.__mayor.fullname()} \n",
        "    {\"Population:\":<15}{self.__pop} \n",
        "    {\"Language:\":<15}{self.__lang}\n",
        "    '''\n",
        "\n",
        "  # --NAME--\n",
        "  @property\n",
        "  def name(self):\n",
        "    return self.__name\n",
        "\n",
        "  @name.setter\n",
        "  def name(self, val):\n",
        "    self.__name = val\n",
        "\n",
        "  @name.getter\n",
        "  def name(self):\n",
        "    return self.__name\n",
        "\n",
        "\n",
        "  # --MAYOR--\n",
        "  @property\n",
        "  def mayor(self):\n",
        "    return self.__mayor\n",
        "\n",
        "  @mayor.setter\n",
        "  def mayor(self, val):\n",
        "    self.__mayor = val\n",
        "\n",
        "  @mayor.getter\n",
        "  def mayor(self):\n",
        "    return self.__mayor\n",
        "\n",
        "\n",
        "  # --POPULATION--\n",
        "  @property\n",
        "  def population(self):\n",
        "    return self.__pop\n",
        "\n",
        "  @population.setter\n",
        "  def population(self, val):\n",
        "    self.__pop = val\n",
        "\n",
        "  @population.getter\n",
        "  def population(self):\n",
        "    return self.__pop\n",
        "\n",
        "\n",
        "  # --LANGUAGE--\n",
        "  @property\n",
        "  def language(self):\n",
        "    return self.__lang\n",
        "\n",
        "  @language.getter\n",
        "  def language(self):\n",
        "    return self.__lang"
      ],
      "metadata": {
        "id": "gHlC6krKM2l0"
      },
      "execution_count": null,
      "outputs": []
    },
    {
      "cell_type": "code",
      "source": [
        "mayor = Person(\"Robert\",\"Karlenich\",45)\n",
        "mayor2 = Person(\"Robert2\",\"Karlenich2\",23)\n",
        "\n",
        "city = City(\"Erevan\", mayor, 120000, \"Armenian\")\n",
        "print(city)\n",
        "\n",
        "city.mayor = mayor2\n",
        "city.name = \"New Erevan\"\n",
        "city.population += 25000\n",
        "\n",
        "print(city)"
      ],
      "metadata": {
        "colab": {
          "base_uri": "https://localhost:8080/"
        },
        "id": "x13kGcabTyxp",
        "outputId": "8019fec1-56a9-4729-81a8-e616e428546d"
      },
      "execution_count": null,
      "outputs": [
        {
          "output_type": "stream",
          "name": "stdout",
          "text": [
            "\n",
            "    Name:          Erevan\n",
            "    Mayor:         Robert Karlenich \n",
            "    Population:    120000 \n",
            "    Language:      Armenian\n",
            "    \n",
            "\n",
            "    Name:          New Erevan\n",
            "    Mayor:         Robert2 Karlenich2 \n",
            "    Population:    145000 \n",
            "    Language:      Armenian\n",
            "    \n"
          ]
        }
      ]
    },
    {
      "cell_type": "markdown",
      "source": [
        "#University"
      ],
      "metadata": {
        "id": "VFLdea62qkkT"
      }
    },
    {
      "cell_type": "markdown",
      "source": [
        "    Class University\n",
        "    Data members:\n",
        "        1. name: string\n",
        "        2. founded_at: Date class\n",
        "        3. rector: Pereson class\n",
        "        4. city: City class\n",
        "    Data methods:\n",
        "        1. __init__\n",
        "        2. __repr__\n",
        "        3. get_name (name=name)\n",
        "        4. set_name (name=name)\n",
        "        5. get_founded_at (name=founded_at)\n",
        "        6. set_rector (name=rector)\n",
        "        7. get_rector (name=rector)\n",
        "        8. get_city (name=city)"
      ],
      "metadata": {
        "id": "KDP31l1dqoR9"
      }
    },
    {
      "cell_type": "code",
      "source": [
        "class University:\n",
        "\n",
        "  def __init__(self,name,founded_at: Date,rector: Person,city: City):\n",
        "    self.__name = name\n",
        "    self.__founded_at = founded_at\n",
        "    self.__rector = rector\n",
        "    self.__city = city\n",
        "\n",
        "\n",
        "  def __repr__(self):\n",
        "    return f'''\n",
        "    {\"Name:\":<15}{self.__name}\n",
        "    {\"Founded at:\":<15}{self.__founded_at} \n",
        "    {\"Rector:\":<15}{self.__rector.fullname()} \n",
        "    {\"City:\":<15}{self.__city.name}\n",
        "    '''\n",
        "\n",
        "\n",
        "  # --NAME--\n",
        "  @property\n",
        "  def name(self):\n",
        "    return self.__name\n",
        "\n",
        "  @name.setter\n",
        "  def name(self, val):\n",
        "    self.__name = val\n",
        "\n",
        "  @name.getter\n",
        "  def name(self):\n",
        "    return self.__name\n",
        "\n",
        "\n",
        "  # --RECTOR--\n",
        "  @property\n",
        "  def rector(self):\n",
        "    return self.__rector\n",
        "\n",
        "  @rector.setter\n",
        "  def rector(self, val):\n",
        "    self.__rector = val\n",
        "\n",
        "  @rector.getter\n",
        "  def rector(self):\n",
        "    return self.__rector\n",
        "\n",
        "\n",
        "  # --FOUNDED_AT--\n",
        "  @property\n",
        "  def founded_at(self):\n",
        "    return self.__founded_at\n",
        "\n",
        "  @founded_at.getter\n",
        "  def founded_at(self):\n",
        "    return self.__founded_at  \n",
        "\n",
        "\n",
        "  # --CITY--\n",
        "  @property\n",
        "  def city(self):\n",
        "    return self.__city\n",
        "\n",
        "  @city.getter\n",
        "  def city(self):\n",
        "    return self.__city  \n",
        "\n"
      ],
      "metadata": {
        "id": "NuI-9BaTUsUU"
      },
      "execution_count": null,
      "outputs": []
    },
    {
      "cell_type": "code",
      "source": [
        "mayor = Person(\"Robert\",\"Karlenich\",45)\n",
        "city = City(\"Erevan\", mayor, 120000, \"Armenian\")\n",
        "\n",
        "rector = Person(\"Robert_rector\",\"Karlenich_rector\",40)\n",
        "founded_at = Date(2012,5,25)\n",
        "uni = University(\"EPH\",founded_at, rector, city)\n",
        "\n",
        "print(uni)"
      ],
      "metadata": {
        "colab": {
          "base_uri": "https://localhost:8080/"
        },
        "id": "RDAL187BsNfc",
        "outputId": "1b97ea9a-7001-4624-d86e-bb836db1cc75"
      },
      "execution_count": null,
      "outputs": [
        {
          "output_type": "stream",
          "name": "stdout",
          "text": [
            "\n",
            "    Name:          EPH\n",
            "    Founded at:    25.5.2012 \n",
            "    Rector:        Robert_rector Karlenich_rector \n",
            "    City:          Erevan\n",
            "    \n"
          ]
        }
      ]
    },
    {
      "cell_type": "markdown",
      "source": [
        "#Teacher"
      ],
      "metadata": {
        "id": "3YKp0YdHt-fJ"
      }
    },
    {
      "cell_type": "markdown",
      "source": [
        "    Class Teacher\n",
        "    Inheritance by Person class\n",
        "    Data members:\n",
        "        1. Person class data members\n",
        "        2. University\n",
        "        3. falcultet: string\n",
        "        4. experience: integer\n",
        "        5. start_work_at: Date class\n",
        "        6. subject: string\n",
        "        7. salary: integer(Why not Money class?)\n",
        "    Data methods:\n",
        "        1. __init__\n",
        "        2. __repr__\n",
        "        3. set_experience (name=experience)\n",
        "        4. get_experience (name=experience)\n",
        "        5. get_start_work_at (name=start_work_at)\n",
        "        6. get_subject (name=subject)\n",
        "        7. get_facultet (name=facultet)\n",
        "        8. set_facultet (name=facultet)\n",
        "        9. get_salary (name=salary)\n",
        "        10. set_salary (name=salary)"
      ],
      "metadata": {
        "id": "t2-P8BXauA1a"
      }
    },
    {
      "cell_type": "code",
      "source": [
        "class Teacher(Person):\n",
        "\n",
        "  def __init__(self,n,s,a,uni: University,fac,exp,start: Date,sub,sal):\n",
        "    super().__init__(n,s,a)\n",
        "    self.__uni = uni\n",
        "    self.__facultet = fac\n",
        "    self.__experience = exp\n",
        "    self.__start_work_at = start\n",
        "    self.__subject = sub\n",
        "    self.__salary = sal\n",
        "\n",
        "\n",
        "  def __repr__(self):\n",
        "    return f'''\n",
        "    {\"Name Surname:\":<15}{self.fullname()} \n",
        "    {\"University:\":<15}{self.__uni.name} \n",
        "    {\"Falcultet:\":<15}{self.__facultet}\n",
        "    {\"Experience:\":<15}{self.__experience}\n",
        "    {\"Start at work:\":<15}{self.__start_work_at}\n",
        "    {\"Subject:\":<15}{self.__subject}\n",
        "    {\"Salary:\":<15}{self.__salary}\n",
        "    '''\n",
        "\n",
        "\n",
        "  @property\n",
        "  def experience(self):\n",
        "    return self.__experience\n",
        "\n",
        "  #3. set_experience (name=experience)\n",
        "  @experience.setter\n",
        "  def experience(self,val):\n",
        "    self.__experience = val\n",
        "  \n",
        "  #4. get_experience (name=experience)\n",
        "  @experience.getter\n",
        "  def experience(self):\n",
        "    return self.__experience\n",
        "\n",
        "  #5. get_start_work_at (name=start_work_at)\n",
        "  @property\n",
        "  def start_work_at(self):\n",
        "    return self.__start_work_at\n",
        "\n",
        "  @start_work_at.getter\n",
        "  def start_work_at(self):\n",
        "    return self.__start_work_at\n",
        "\n",
        "  #6. get_subject (name=subject)\n",
        "  @property\n",
        "  def subject(self):\n",
        "    return self.__subject\n",
        "\n",
        "  @subject.getter\n",
        "  def subject(self):\n",
        "    return self.__subject\n",
        "\n",
        "  #7. get_facultet (name=facultet)\n",
        "  #8. set_facultet (name=facultet)\n",
        "  @property\n",
        "  def facultet(self):\n",
        "    return self.__fac\n",
        "\n",
        "  # @subject.getter\n",
        "  # def facultet(self):\n",
        "  #   return self.__fac\n",
        "\n",
        "  @facultet.setter\n",
        "  def facultet(self,val):\n",
        "    self.__fac = val\n",
        "\n",
        "  #9.  get_salary (name=salary)\n",
        "  #10. set_salary (name=salary)\n",
        "  @property\n",
        "  def salary(self):\n",
        "    return self.__salary\n",
        "\n",
        "  @salary.getter\n",
        "  def salary(self):\n",
        "    return self.__salary\n",
        "\n",
        "  @salary.setter\n",
        "  def salary(self,val):\n",
        "    self.__salary = val\n"
      ],
      "metadata": {
        "id": "Hs1OKqmvs7Gv"
      },
      "execution_count": null,
      "outputs": []
    },
    {
      "cell_type": "code",
      "source": [
        "a = Teacher(\"Samvel\",\"Shatimanam\",20,uni,\"IKM\",2,Date(2020,5,12),\"Python\",500)\n",
        "print(a)\n",
        "\n",
        "a.facultet = \"IKM2\"\n",
        "a.salary = 1500\n",
        "print(a)"
      ],
      "metadata": {
        "colab": {
          "base_uri": "https://localhost:8080/"
        },
        "id": "3BOb_sKLzqTM",
        "outputId": "58c2fe37-f4fa-4943-f681-90bc8cd44bde"
      },
      "execution_count": null,
      "outputs": [
        {
          "output_type": "stream",
          "name": "stdout",
          "text": [
            "\n",
            "    Name Surname:  Samvel Shatimanam \n",
            "    University:    EPH \n",
            "    Falcultet:     IKM\n",
            "    Experience:    2\n",
            "    Start at work: 12.5.2020\n",
            "    Subject:       Python\n",
            "    Salary:        500\n",
            "    \n",
            "\n",
            "    Name Surname:  Samvel Shatimanam \n",
            "    University:    EPH \n",
            "    Falcultet:     IKM\n",
            "    Experience:    2\n",
            "    Start at work: 12.5.2020\n",
            "    Subject:       Python\n",
            "    Salary:        1500\n",
            "    \n"
          ]
        }
      ]
    },
    {
      "cell_type": "markdown",
      "source": [
        "#Student"
      ],
      "metadata": {
        "id": "NgKJbI-XrEhO"
      }
    },
    {
      "cell_type": "markdown",
      "source": [
        "    Class Student\n",
        "    Inheritance by Person class\n",
        "    Data members:\n",
        "        1. Person class data members\n",
        "        2. University\n",
        "        3. faculty: string\n",
        "        4. course: integer\n",
        "        5. started_at: Date class\n",
        "    Data methods:\n",
        "        1. __init__\n",
        "        2. __repr__\n",
        "        3. set_university (name=university)\n",
        "        4. get_university (name=university)\n",
        "        5. set_faculty (name=faculty)\n",
        "        6. get_faculty (name=faculty)\n",
        "        7. set_course (name=course)\n",
        "        8. get_course (name=course)\n",
        "        9. get_started_at (name=started_at)"
      ],
      "metadata": {
        "id": "OWwY8u0MrGYV"
      }
    },
    {
      "cell_type": "code",
      "source": [
        "class Student(Person):\n",
        "\n",
        "  def __init__(self,n,s,a):\n",
        "    super().__init__(n,s,a)\n",
        "    self.__uni = None\n",
        "    self.__faculty = None\n",
        "    self.__course = None\n",
        "    self.__started: Date = None\n",
        "\n",
        "  # OR\n",
        "\n",
        "  # def __init__(self,n,s,a,u,f,c,st):\n",
        "  #   super().__init__(n,s,a)\n",
        "  #   self.__uni = u\n",
        "  #   self.__faculty = f\n",
        "  #   self.__course = c\n",
        "  #   self.__started: Date = st\n",
        "\n",
        "  def __repr__(self):\n",
        "    return f'''\n",
        "    {\"Name Surname:\":<15}{self.fullname()} \n",
        "    {\"University:\":<15}{self.__uni.name} \n",
        "    {\"Facultet:\":<15}{self.__faculty}\n",
        "    {\"Course:\":<15}{self.__course}\n",
        "    {\"Start at work:\":<15}{self.__started}\n",
        "    '''\n",
        "\n",
        "  # --UNIVERSITY--\n",
        "  @property\n",
        "  def university(self):\n",
        "    return self.__experience\n",
        "\n",
        "  @university.setter\n",
        "  def university(self,val):\n",
        "    self.__uni = val\n",
        "\n",
        "\n",
        "  # --FACULTY--\n",
        "  @property\n",
        "  def faculty(self):\n",
        "    return self.__faculty\n",
        "\n",
        "  @faculty.setter\n",
        "  def faculty(self,val):\n",
        "    self.__faculty = val\n",
        "\n",
        "\n",
        "  # --COURSE--\n",
        "  @property\n",
        "  def course(self):\n",
        "    return self.__course\n",
        "\n",
        "  @course.setter\n",
        "  def course(self,val):\n",
        "    self.__course = val\n",
        "\n",
        "\n",
        "  # --STARTED_AT--\n",
        "  @property\n",
        "  def start_work_at(self):\n",
        "    return self.__started\n",
        "\n",
        "  @start_work_at.setter\n",
        "  def start_work_at(self,val):\n",
        "    self.__started = val"
      ],
      "metadata": {
        "id": "ixnmPlIOz5NO"
      },
      "execution_count": null,
      "outputs": []
    },
    {
      "cell_type": "code",
      "source": [
        "ex = Student(\"Samvel\",\"Balyan\",20)\n",
        "ex.course = \"Kurs esim inch\"\n",
        "ex.faculty = \"IKM\"\n",
        "ex.university = uni\n",
        "ex.start_work_at = Date(2020,5,17)\n",
        "\n",
        "# OR\n",
        "# ex = Student(\"Samvel\",\"Balyan\",20,uni \"IKM\",\"Kurs\",Date(2020,5,17))\n",
        "print(ex)"
      ],
      "metadata": {
        "colab": {
          "base_uri": "https://localhost:8080/"
        },
        "id": "okEeKqCAzMoI",
        "outputId": "87c23112-5d6c-477f-d874-491fc651f7b4"
      },
      "execution_count": null,
      "outputs": [
        {
          "output_type": "stream",
          "name": "stdout",
          "text": [
            "\n",
            "    Name Surname:  Samvel Balyan \n",
            "    University:    EPH \n",
            "    Facultet:      IKM\n",
            "    Course:        Kurs esim inch\n",
            "    Start at work: 17.5.2020\n",
            "    \n"
          ]
        }
      ]
    },
    {
      "cell_type": "markdown",
      "source": [
        "# Function call counter"
      ],
      "metadata": {
        "id": "1sg8j45_88YC"
      }
    },
    {
      "cell_type": "code",
      "source": [
        "def counter(func):\n",
        "  def function(x):\n",
        "      function.calls += 1\n",
        "      return func(x)\n",
        "  function.calls = 0\n",
        "  return function\n",
        "\n",
        "@counter\n",
        "def fib(n):\n",
        "    if n <= 0:   return 0\n",
        "    elif n == 1: return 1\n",
        "    else:        return fib(n-1) + fib(n-2)\n",
        "\n",
        "\n",
        "x = fib(10)\n",
        "print(fib.calls)\n",
        "print(dir(counter))"
      ],
      "metadata": {
        "colab": {
          "base_uri": "https://localhost:8080/"
        },
        "id": "TPVAPtcF9No8",
        "outputId": "81e8997e-7851-4595-d19c-1cb54db96b8f"
      },
      "execution_count": 25,
      "outputs": [
        {
          "output_type": "stream",
          "name": "stdout",
          "text": [
            "177\n",
            "['__annotations__', '__call__', '__class__', '__closure__', '__code__', '__defaults__', '__delattr__', '__dict__', '__dir__', '__doc__', '__eq__', '__format__', '__ge__', '__get__', '__getattribute__', '__globals__', '__gt__', '__hash__', '__init__', '__init_subclass__', '__kwdefaults__', '__le__', '__lt__', '__module__', '__name__', '__ne__', '__new__', '__qualname__', '__reduce__', '__reduce_ex__', '__repr__', '__setattr__', '__sizeof__', '__str__', '__subclasshook__']\n"
          ]
        }
      ]
    }
  ],
  "metadata": {
    "colab": {
      "provenance": [],
      "toc_visible": true
    },
    "kernelspec": {
      "display_name": "Python 3",
      "name": "python3"
    },
    "language_info": {
      "name": "python"
    }
  },
  "nbformat": 4,
  "nbformat_minor": 0
}