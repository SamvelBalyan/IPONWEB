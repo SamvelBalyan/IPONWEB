{
  "nbformat": 4,
  "nbformat_minor": 0,
  "metadata": {
    "colab": {
      "provenance": []
    },
    "kernelspec": {
      "name": "python3",
      "display_name": "Python 3"
    },
    "language_info": {
      "name": "python"
    }
  },
  "cells": [
    {
      "cell_type": "markdown",
      "source": [
        "    TASK 1\n",
        "    Create a class that implements a binary search tree and can perform basic\n",
        "    operations such as insertion, deletion, and searching.\n",
        "    \n",
        "    TASK 2\n",
        "    Create a class that implements a red black tree and can perform basic\n",
        "    operations such as insertion, deletion, and searching.\n",
        "    \n",
        "    TASK 3\n",
        "    Write a function that implements a merge sort algorithm.\n",
        "    \n",
        "    TASK 4\n",
        "    Write a function that implements an insertion sort algorithm.\n",
        "    \n",
        "    TASK 5\n",
        "    Write a function that implements a sorting algorithm in linear time."
      ],
      "metadata": {
        "id": "Pj3EWSpBLILa"
      }
    },
    {
      "cell_type": "markdown",
      "source": [
        "#Task 1"
      ],
      "metadata": {
        "id": "S6d3__GqLPBI"
      }
    },
    {
      "cell_type": "markdown",
      "source": [
        "Create a class that implements a binary search tree and can perform basic\n",
        "operations such as insertion, deletion, and searching."
      ],
      "metadata": {
        "id": "PbQLRgBjLR5Q"
      }
    },
    {
      "cell_type": "code",
      "execution_count": 9,
      "metadata": {
        "id": "Sl6xRNIkLEq8"
      },
      "outputs": [],
      "source": [
        "class Node:\n",
        "    def __init__(self, value):\n",
        "        self.value = value\n",
        "        self.left = None\n",
        "        self.right = None\n",
        "        \n",
        "    def __repr__(self):\n",
        "        return f'{self.value}'\n",
        "      \n",
        "\n",
        "\n",
        "class BST:\n",
        "    def __init__(self):\n",
        "        self.root = None\n",
        "\n",
        "\n",
        "    # Insertion\n",
        "    def insert(self, value):\n",
        "\n",
        "      node = Node(value)\n",
        "      if (self.root == None):\n",
        "          self.root = node\n",
        "\n",
        "          return\n",
        "      prev = None\n",
        "      temp = self.root\n",
        "      while (temp != None):\n",
        "          if (temp.value > value):\n",
        "              prev = temp\n",
        "              temp = temp.left\n",
        "          elif(temp.value < value):\n",
        "              prev = temp\n",
        "              temp = temp.right\n",
        "      if (prev.value > value):  prev.left = node\n",
        "      else:   prev.right = node\n",
        "\n",
        "\n",
        "    # Deletion\n",
        "    def delete(self, value):    \n",
        "      self.root = self.delete_helper(self.root, value)\n",
        "        \n",
        "\n",
        "    # Deletion helper\n",
        "    def delete_helper(self, node, value):\n",
        "      # Tree is empty\n",
        "      if node is None: return None\n",
        "\n",
        "      if value == node.value:\n",
        "        # 1) No child\n",
        "        if node.left is None and node.right is None:\n",
        "            return None\n",
        "        # 2) Rigth child\n",
        "        elif node.left is None:\n",
        "            return node.right\n",
        "        # 3) Left child\n",
        "        elif node.right is None:\n",
        "            return node.left\n",
        "        else:\n",
        "        # 4) Has both children\n",
        "            min_rigth = self.minimum(node.right)\n",
        "            node.value = min_rigth.value\n",
        "            node.right = self.delete_helper(node.right, min_rigth.value)\n",
        "            return node\n",
        "      # Search target in left branch\n",
        "      elif value < node.value:\n",
        "          node.left = self.delete_helper(node.left, value)\n",
        "          return node\n",
        "      # Search target in right branch\n",
        "      else:\n",
        "          node.right = self.delete_helper(node.right, value)\n",
        "          return node\n",
        "      \n",
        "\n",
        "    # Minumum value\n",
        "    def minimum(self, node):\n",
        "        current = node\n",
        "        while current.left is not None:  current = current.left\n",
        "        return current\n",
        "\n",
        "    # Searching\n",
        "    def search(self, target):\n",
        "      current = self.root\n",
        "      while current.left != None or current.right != None:\n",
        "        if current.value < target:\n",
        "          current = current.right\n",
        "\n",
        "        if current.value > target:\n",
        "          current = current.left\n",
        "\n",
        "        if current.value == target: \n",
        "          return True\n",
        "\n",
        "      return False\n",
        "                   \n",
        "    # Printing function found from internet\n",
        "    def tree_print(self, root, space=4):\n",
        "      COUNT = [10]\n",
        "      # Base case\n",
        "      if (root == None):\n",
        "          return\n",
        "  \n",
        "      space += COUNT[0]\n",
        "      self.tree_print(root.right, space)\n",
        "  \n",
        "      print()\n",
        "      for i in range(COUNT[0], space):\n",
        "          print(end=\" \")\n",
        "      print(root.value)\n",
        "  \n",
        "      self.tree_print(root.left, space)\n",
        "\n"
      ]
    },
    {
      "cell_type": "code",
      "source": [
        "t = BST()\n",
        "t.insert(5)\n",
        "t.insert(7)\n",
        "t.insert(1)\n",
        "t.tree_print(t.root)\n",
        "print(\"------------------------------\")\n",
        "\n",
        "t.delete(7)\n",
        "t.tree_print(t.root)\n",
        "print(\"------------------------------\")\n",
        "\n",
        "t.insert(10)\n",
        "t.insert(11)\n",
        "t.insert(12)\n",
        "print(t.search(12))\n",
        "print(\"------------------------------\")\n",
        "t.tree_print(t.root)\n",
        "print(\"------------------------------\")\n"
      ],
      "metadata": {
        "colab": {
          "base_uri": "https://localhost:8080/"
        },
        "id": "DCT_kcL0NM2Q",
        "outputId": "a0dbfc1c-9436-4f87-e1b2-3b26deee7321"
      },
      "execution_count": 10,
      "outputs": [
        {
          "output_type": "stream",
          "name": "stdout",
          "text": [
            "\n",
            "              7\n",
            "\n",
            "    5\n",
            "\n",
            "              1\n",
            "------------------------------\n",
            "\n",
            "    5\n",
            "\n",
            "              1\n",
            "------------------------------\n",
            "True\n",
            "------------------------------\n",
            "\n",
            "                                  12\n",
            "\n",
            "                        11\n",
            "\n",
            "              10\n",
            "\n",
            "    5\n",
            "\n",
            "              1\n",
            "------------------------------\n"
          ]
        }
      ]
    },
    {
      "cell_type": "markdown",
      "source": [
        "#Task 2"
      ],
      "metadata": {
        "id": "JMPJZd7Fnabk"
      }
    },
    {
      "cell_type": "markdown",
      "source": [
        "Create a class that implements a red black tree and can perform basic\n",
        "operations such as insertion, deletion, and searching.\n",
        "\n"
      ],
      "metadata": {
        "id": "pWMQzpNsG_2r"
      }
    },
    {
      "cell_type": "code",
      "source": [
        "class Node:\n",
        "    def __init__(self, key):\n",
        "        self.key = key\n",
        "        self.p = None\n",
        "        self.left = None\n",
        "        self.right = None\n",
        "        self.color = 1\n",
        "        # RED = 1, BLACK = 0\n",
        "\n",
        "\n",
        "class RedBlackTree:\n",
        "    def __init__(self):\n",
        "        self.nil = Node(0)\n",
        "        self.nil.color = 0\n",
        "        self.nil.left = None\n",
        "        self.nil.right = None\n",
        "        self.root = self.nil\n",
        "\n",
        "    # Search the tree\n",
        "    def search(self, node, key):\n",
        "        if node == self.nil or key == node.key:\n",
        "            return node\n",
        "\n",
        "        if key < node.key:\n",
        "            return self.search(node.left, key)\n",
        "        else:\n",
        "            return self.search(node.right, key)\n",
        "\n",
        "    # Rotate to left\n",
        "    def left_rotate(self, x):\n",
        "        y = x.right\n",
        "        x.right = y.left\n",
        "        if y.left != self.nil:\n",
        "            y.left.p = x\n",
        "\n",
        "        y.p = x.p\n",
        "        if x.p == self.nil:\n",
        "          self.root = y\n",
        "        elif x == x.p.left:\n",
        "          x.p.left = y\n",
        "        else:\n",
        "          x.p.right =y\n",
        "        y.left = x\n",
        "        x.p = y\n",
        "\n",
        "\n",
        "    # Rotate to right\n",
        "    def right_rotate(self, x):\n",
        "        y = x.left\n",
        "        x.left = y.right\n",
        "        if y.right != self.nil:\n",
        "            y.right.p = x\n",
        "\n",
        "        y.p = x.p\n",
        "        if x.p == self.nil:\n",
        "            self.root = y\n",
        "        elif x == x.p.right:\n",
        "            x.p.right = y\n",
        "        else:\n",
        "            x.p.left = y\n",
        "        y.right = x\n",
        "        x.p = y\n",
        "\n",
        "\n",
        "    # Insert\n",
        "    def insert(self, key):\n",
        "        z = Node(key)\n",
        "        z.p = None\n",
        "        z.key = key\n",
        "        z.left = self.nil\n",
        "        z.right = self.nil\n",
        "        z.color = 1\n",
        "\n",
        "        y = None\n",
        "        x = self.root\n",
        "\n",
        "        while x != self.nil:\n",
        "            y = x\n",
        "            if z.key < x.key:\n",
        "                x = x.left\n",
        "            else:\n",
        "                x = x.right\n",
        "\n",
        "        z.p = y\n",
        "        if y == None:\n",
        "            self.root = z\n",
        "        elif z.key < y.key:\n",
        "            y.left = z\n",
        "        else:\n",
        "            y.right = z\n",
        "\n",
        "        # Was getting a \"NoneType object has no attribute color\" error,\n",
        "        # so this fixes it. ¯\\_(ツ)_/¯\n",
        "\n",
        "        if z.p == None: \n",
        "            z.color = None\n",
        "            return\n",
        "\n",
        "        self.insert_fixup(z)\n",
        "\n",
        "\n",
        "    # Fixing after insertion\n",
        "    def insert_fixup(self, z):\n",
        "        while z.p.color == 1:\n",
        "            if z.p == z.p.p.right:\n",
        "                y = z.p.p.left\n",
        "                # Case 1\n",
        "                if y.color == 1:\n",
        "                    z.p.color = 0\n",
        "                    y.color = 0\n",
        "                    z.p.p.color = 1\n",
        "                    z = z.p.p\n",
        "                else:\n",
        "                    # Case 2\n",
        "                    if z == z.p.left:\n",
        "                        z = z.p\n",
        "                        self.right_rotate(z)\n",
        "                    # Case 3\n",
        "                    z.p.color = 0\n",
        "                    z.p.p.color = 1\n",
        "                    self.left_rotate(z.p.p)\n",
        "            else:\n",
        "                y = z.p.p.right\n",
        "                # Case 1\n",
        "                if y.color == 1:\n",
        "                    z.p.color = 0\n",
        "                    y.color = 0\n",
        "                    z.p.p.color = 1\n",
        "                    z = z.p.p\n",
        "                else:\n",
        "                  # Case 2\n",
        "                    if z == z.p.right:\n",
        "                        z = z.p\n",
        "                        self.left_rotate(z)\n",
        "                    # Case 3 \n",
        "                    z.p.color = 0\n",
        "                    z.p.p.color = 1\n",
        "                    self.right_rotate(z.p.p)\n",
        "            if z == self.root:\n",
        "                break\n",
        "        self.root.color = 0\n",
        "\n",
        "\n",
        "    # Main delete\n",
        "    def delete(self, key):\n",
        "        self.delete_helper(self.root, key)\n",
        "        \n",
        "    # Delete helper\n",
        "    def delete_helper(self, node, key):\n",
        "        z = self.search(self.root,key)\n",
        "\n",
        "        if z == self.nil:\n",
        "            print(f\"Cannot find key({key}) in the tree\")\n",
        "            return\n",
        "\n",
        "        y = z\n",
        "        y_original_color = y.color\n",
        "        if z.left == self.nil:\n",
        "            x = z.right\n",
        "            self.rb_transplant(z, z.right)\n",
        "        elif z.right == self.nil:\n",
        "            x = z.left\n",
        "            self.rb_transplant(z, z.left)\n",
        "        else:\n",
        "            y = self.minimum(z.right)\n",
        "            y_original_color = y.color\n",
        "            x = y.right\n",
        "            if y.p == z:\n",
        "                x.p = y\n",
        "            else:\n",
        "                self.rb_transplant(y, y.right)\n",
        "                y.right = z.right\n",
        "                y.right.p = y\n",
        "\n",
        "            self.rb_transplant(z, y)\n",
        "            y.left = z.left\n",
        "            y.left.p = y\n",
        "            y.color = z.color\n",
        "        if y_original_color == 0:\n",
        "            self.delete_fixup(x)\n",
        "\n",
        "\n",
        "    # Fixing after deletion\n",
        "    def delete_fixup(self, x):\n",
        "        while x != self.root and x.color == 0:\n",
        "            if x == x.p.left:\n",
        "                w = x.p.right\n",
        "                if w.color == 1:\n",
        "                    # Case 1 \n",
        "                    w.color = 0\n",
        "                    x.p.color = 1\n",
        "                    self.left_rotate(x.p)\n",
        "                    w = x.p.right\n",
        "\n",
        "                if w.left.color == 0 and w.right.color == 0:\n",
        "                  # Case 2\n",
        "                    w.color = 1\n",
        "                    x = x.p\n",
        "                else:\n",
        "                    if w.right.color == 0:\n",
        "                      # Case 3\n",
        "                        w.left.color = 0\n",
        "                        w.color = 1\n",
        "                        self.right_rotate(w)\n",
        "                        w = x.p.right\n",
        "                    # Case 4\n",
        "                    w.color = x.p.color\n",
        "                    x.p.color = 0\n",
        "                    w.right.color = 0\n",
        "                    self.left_rotate(x.p)\n",
        "                    x = self.root\n",
        "            else:\n",
        "                w = x.p.left\n",
        "                if w.color == 1:\n",
        "                    # Case 1\n",
        "                    w.color = 0\n",
        "                    x.p.color = 1\n",
        "                    self.right_rotate(x.p)\n",
        "                    w = x.p.left\n",
        "\n",
        "                if w.right.color == 0 and w.right.color == 0:\n",
        "                    # Case 2\n",
        "                    w.color = 1\n",
        "                    x = x.p\n",
        "                else:\n",
        "                    if w.left.color == 0:\n",
        "                        # Case 3\n",
        "                        w.right.color = 0\n",
        "                        w.color = 1\n",
        "                        self.left_rotate(w)\n",
        "                        w = x.p.left\n",
        "                    # Case 4\n",
        "                    w.color = x.p.color\n",
        "                    x.p.color = 0\n",
        "                    w.left.color = 0\n",
        "                    self.right_rotate(x.p)\n",
        "                    x = self.root\n",
        "        x.color = 0\n",
        "\n",
        "\n",
        "    # Trasnsplant function which is used in deletion\n",
        "    def rb_transplant(self, u, v):\n",
        "        if u.p == None:\n",
        "            self.root = v\n",
        "        elif u == u.p.left:\n",
        "            u.p.left = v\n",
        "        else:\n",
        "            u.p.right = v\n",
        "        v.p = u.p\n",
        "\n",
        "    \n",
        "    # Minimum value\n",
        "    def minimum(self, node):\n",
        "        while node.left != self.nil:\n",
        "            node = node.left\n",
        "        return node\n",
        "\n",
        "\n",
        "    # Maximum value\n",
        "    def maximum(self, node):\n",
        "        while node.right != self.nil:\n",
        "            node = node.right\n",
        "        return node\n",
        "\n",
        "\n",
        "    # Printing function found from internet\n",
        "    def print_helper(self, node, indent, last):\n",
        "        import sys\n",
        "        if node != self.nil:\n",
        "            sys.stdout.write(indent)\n",
        "            if last:\n",
        "                sys.stdout.write(\"R----\")\n",
        "                indent += \"     \"\n",
        "            else:\n",
        "                sys.stdout.write(\"L----\")\n",
        "                indent += \"|    \"\n",
        "\n",
        "            s_color = \"RED\" if node.color == 1 else \"BLACK\"\n",
        "            print(str(node.key) + \"(\" + s_color + \")\")\n",
        "            self.print_helper(node.left, indent, False)\n",
        "            self.print_helper(node.right, indent, True)\n",
        "\n",
        "\n",
        "    # Main print\n",
        "    def print_tree(self):\n",
        "        self.print_helper(self.root, \"\", True)    "
      ],
      "metadata": {
        "id": "NdMHoI9mhd87"
      },
      "execution_count": 20,
      "outputs": []
    },
    {
      "cell_type": "code",
      "source": [
        "bst = RedBlackTree()\n",
        "\n",
        "bst.insert(15)\n",
        "bst.insert(20)\n",
        "bst.insert(7)\n",
        "bst.insert(30)\n",
        "bst.insert(100)\n",
        "bst.insert(1)\n",
        "bst.insert(51)\n",
        "bst.insert(3)\n",
        "\n",
        "bst.print_tree()\n",
        "\n",
        "print()\n",
        "print(\"After deletion\")\n",
        "bst.delete(30)\n",
        "bst.print_tree()\n"
      ],
      "metadata": {
        "colab": {
          "base_uri": "https://localhost:8080/"
        },
        "id": "hTwVaZ1d-68n",
        "outputId": "87f0f9d4-6235-433b-8c16-a4ef481b2a9f"
      },
      "execution_count": 21,
      "outputs": [
        {
          "output_type": "stream",
          "name": "stdout",
          "text": [
            "R----15(BLACK)\n",
            "     L----3(BLACK)\n",
            "     |    L----1(RED)\n",
            "     |    R----7(RED)\n",
            "     R----30(RED)\n",
            "          L----20(BLACK)\n",
            "          R----100(BLACK)\n",
            "               L----51(RED)\n",
            "\n",
            "After deletion\n",
            "R----15(BLACK)\n",
            "     L----3(BLACK)\n",
            "     |    L----1(RED)\n",
            "     |    R----7(RED)\n",
            "     R----51(RED)\n",
            "          L----20(BLACK)\n",
            "          R----100(BLACK)\n"
          ]
        }
      ]
    },
    {
      "cell_type": "markdown",
      "source": [
        "#Task 3"
      ],
      "metadata": {
        "id": "JCCQDUCWHEbz"
      }
    },
    {
      "cell_type": "markdown",
      "source": [
        "Write a function that implements a merge sort algorithm."
      ],
      "metadata": {
        "id": "039NYGyjHGME"
      }
    },
    {
      "cell_type": "code",
      "source": [
        "def merge_sort(arr):\n",
        "    if len(arr) <= 1:\n",
        "        return arr\n",
        "    mid = len(arr) // 2\n",
        "    left = arr[:mid]\n",
        "    right = arr[mid:]\n",
        "    left = merge_sort(left)\n",
        "    right = merge_sort(right)\n",
        "    return merge(left, right)\n",
        "\n",
        "def merge(left, right):\n",
        "    result = []\n",
        "    l, r = 0, 0\n",
        "    while l < len(left) and r < len(right):\n",
        "        if left[l] < right[r]:\n",
        "            result.append(left[l])\n",
        "            l += 1\n",
        "        else:\n",
        "            result.append(right[r])\n",
        "            r += 1\n",
        "    while l < len(left):\n",
        "        result.append(left[l])\n",
        "        l += 1\n",
        "    while r < len(right):\n",
        "        result.append(right[r])\n",
        "        r += 1\n",
        "    return result\n"
      ],
      "metadata": {
        "id": "Jd9LA8A1HAas"
      },
      "execution_count": 5,
      "outputs": []
    },
    {
      "cell_type": "code",
      "source": [
        "a = [5,4,1,2,1,99,7,7,7,8,9,6,40]\n",
        "a = merge_sort(a)\n",
        "a"
      ],
      "metadata": {
        "id": "M6GUwdJ5Hbhk",
        "colab": {
          "base_uri": "https://localhost:8080/"
        },
        "outputId": "39c13c4b-e3d2-47c9-ead7-c4a70bcc135e"
      },
      "execution_count": 15,
      "outputs": [
        {
          "output_type": "execute_result",
          "data": {
            "text/plain": [
              "[1, 1, 2, 4, 5, 6, 7, 7, 7, 8, 9, 40, 99]"
            ]
          },
          "metadata": {},
          "execution_count": 15
        }
      ]
    },
    {
      "cell_type": "markdown",
      "source": [
        "#Task 4"
      ],
      "metadata": {
        "id": "bdhQgJ49Ix7G"
      }
    },
    {
      "cell_type": "markdown",
      "source": [
        "Write a function that implements an insertion sort algorithm."
      ],
      "metadata": {
        "id": "uS1r6jHHIzIZ"
      }
    },
    {
      "cell_type": "code",
      "source": [
        "def insertion(arr):\n",
        "    for i in range(1, len(arr)):\n",
        "        key = arr[i]\n",
        "        j = i - 1\n",
        "        while j >= 0 and key < arr[j]:\n",
        "            arr[j + 1] = arr[j]\n",
        "            j -= 1\n",
        "        arr[j + 1] = key\n",
        "    return arr\n",
        "\n",
        "print(insertion(a))"
      ],
      "metadata": {
        "id": "EpDw2S0LI_-6",
        "colab": {
          "base_uri": "https://localhost:8080/"
        },
        "outputId": "ccced8eb-3b15-4d27-c0a6-3b8d2749f345"
      },
      "execution_count": 16,
      "outputs": [
        {
          "output_type": "stream",
          "name": "stdout",
          "text": [
            "[1, 1, 2, 4, 5, 6, 7, 7, 7, 8, 9, 40, 99]\n"
          ]
        }
      ]
    },
    {
      "cell_type": "markdown",
      "source": [
        "#Task 5"
      ],
      "metadata": {
        "id": "SX2H_uAUJN0-"
      }
    },
    {
      "cell_type": "markdown",
      "source": [
        "Write a function that implements a sorting algorithm in linear time."
      ],
      "metadata": {
        "id": "2EK6Wd0BJQDo"
      }
    },
    {
      "cell_type": "code",
      "source": [
        "def counting_sort(arr):\n",
        "    max_element = max(arr)\n",
        "    count = [0] * (max_element + 1)\n",
        "\n",
        "    for element in arr:  count[element] += 1\n",
        "\n",
        "    for i in range(1, max_element + 1):   count[i] += count[i - 1]\n",
        "    \n",
        "    result = [0] * len(arr)\n",
        "\n",
        "    for i in range(len(arr) - 1, -1, -1):\n",
        "        result[count[arr[i]] - 1] = arr[i]\n",
        "        count[arr[i]] -= 1\n",
        "        \n",
        "    return result\n",
        "\n",
        "print(counting_sort(a))"
      ],
      "metadata": {
        "id": "ebbPVEIGJW2i",
        "colab": {
          "base_uri": "https://localhost:8080/"
        },
        "outputId": "0e34762e-9f79-4a5e-eed7-75f806ba0ab2"
      },
      "execution_count": 17,
      "outputs": [
        {
          "output_type": "stream",
          "name": "stdout",
          "text": [
            "[1, 1, 2, 4, 5, 6, 7, 7, 7, 8, 9, 40, 99]\n"
          ]
        }
      ]
    }
  ]
}