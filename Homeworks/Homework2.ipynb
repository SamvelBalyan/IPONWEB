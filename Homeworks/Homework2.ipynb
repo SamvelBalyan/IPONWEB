{
  "nbformat": 4,
  "nbformat_minor": 0,
  "metadata": {
    "colab": {
      "provenance": [],
      "collapsed_sections": [
        "7wvut1CV-22R"
      ]
    },
    "kernelspec": {
      "name": "python3",
      "display_name": "Python 3"
    },
    "language_info": {
      "name": "python"
    }
  },
  "cells": [
    {
      "cell_type": "markdown",
      "source": [
        "# 2-1"
      ],
      "metadata": {
        "id": "-IBaWv8_-zYM"
      }
    },
    {
      "cell_type": "markdown",
      "source": [
        "**Insertion sort on small arrays in merge sort**\n",
        "\n",
        "Although merge sort runs in O(nlgn) worst-case time and insertion sort runs\n",
        "in O(n^2) worst-case time, the constant factors in insertion sort can make it faster\n",
        "in practice for small problem sizes on many machines. Thus, it makes sense to\n",
        "**coarsen** the leaves of the recursion by using insertion sort within merge sort when subproblems become sufficiently small. Consider a modification to merge sort in\n",
        "which n/k sublists of length k are sorted using insertion sort and then merged\n",
        "using the standard merging mechanism, where k is a value to be determined."
      ],
      "metadata": {
        "id": "y-9Y6HP5N4Hm"
      }
    },
    {
      "cell_type": "markdown",
      "source": [
        ">a.\n",
        "Show that insertion sort can sort the n/k sublists, each of length k, in O(nk)\n",
        "worst-case time."
      ],
      "metadata": {
        "id": "7BD6jjrpOf2e"
      }
    },
    {
      "cell_type": "markdown",
      "source": [
        "Վատագույն դեպքը k էլեմենտի համար O($k^2$) է:  $n/k$ էլեմենտի համար էլ կլինի O($k^2$) x $n/k$ = O(nk)"
      ],
      "metadata": {
        "id": "AN-mUuQ1Qeaw"
      }
    },
    {
      "cell_type": "markdown",
      "source": [
        "> b. Show how to merge the sublists in O(nlg(n/k)) worst-case time.\n"
      ],
      "metadata": {
        "id": "ms9KoujsO_CM"
      }
    },
    {
      "cell_type": "markdown",
      "source": [
        "Ունենք $n/k$ հատ ենթազանգված, k երկարությամբ։ Բոլորը միացնելու համար , ամեն անգամ վերցնելու ենք 2 ենթազանգված և միացնելու։ Սրա համար կպահանջվի $lg(n/k)$ քայլ։ Ամեն քայլում $n$ հատ անդամ ենք համեմատում։ Այստեղից էլ ստանում ենք $Θ(nlg(n/k))$ :"
      ],
      "metadata": {
        "id": "5pPQS1LnSqd1"
      }
    },
    {
      "cell_type": "markdown",
      "source": [
        "> c. Given that the modified algorithm runs in O(nk+nlg(n/k)) worst-case time,\n",
        "what is the largest value of k as a function of n for which the modified algorithm\n",
        "has the same running time as standard merge sort, in terms of O-notation?"
      ],
      "metadata": {
        "id": "WOa1z2HOPLPu"
      }
    },
    {
      "cell_type": "markdown",
      "source": [
        "Ենթադրենք k = $lgn$\n",
        "\n",
        "Θ($nlgn+n lg(n/lgn)$)=Θ($nlgn$)\n",
        "\n",
        "Ստացվում է, եթե ֆունկցիան լինի $lgn$ -ից մեծ, ապա բարդությունը merge sort-ից մեծ կլինի։\n"
      ],
      "metadata": {
        "id": "EDVcINqyyav9"
      }
    },
    {
      "cell_type": "markdown",
      "source": [
        "> d. How should we choose k in practice?"
      ],
      "metadata": {
        "id": "MH8EILDwPhKx"
      }
    },
    {
      "cell_type": "markdown",
      "source": [
        "Պետք է վերցնել այն ամենամեծ թիվը, որի ժամանակ Insertion Sort-ը ավելի արագ է աշխատում, քան Merge Sort-ը:"
      ],
      "metadata": {
        "id": "gMaOn6aI-WBS"
      }
    },
    {
      "cell_type": "markdown",
      "source": [
        "# 2-2"
      ],
      "metadata": {
        "id": "7wvut1CV-22R"
      }
    },
    {
      "cell_type": "markdown",
      "source": [
        "**Correctness of bubblesort**\n",
        "\n",
        "Bubblesort is a popular, but inefficient, sorting algorithm. It works by repeatedly\n",
        "swapping adjacent elements that are out of order.\n",
        "\n",
        "BUBBLESORT(A)\n",
        "\n",
        "    for i = 1 to A.length - 1\n",
        "      for j = A.length downto i + 1\n",
        "        if A[j]  < A[j-1]\n",
        "          exchange A[j]  with A[j-1]"
      ],
      "metadata": {
        "id": "6JZjc4tO-qoE"
      }
    },
    {
      "cell_type": "markdown",
      "source": [
        ">a. \n",
        "Let A' denote the output of BUBBLESORT(A). To prove that BUBBLESORT is correct, we need to prove that it terminates and that\n",
        "A'[1] <= A'[2] <= ... <= A'[n]\n",
        "where n=A.length. In oreder to show that BUBBLESORT actually sorts, what else do we need to prove?"
      ],
      "metadata": {
        "id": "9qwmza6_-qgc"
      }
    },
    {
      "cell_type": "markdown",
      "source": [
        "Բացի այն, որ պետք է ապացուցենք որ տարրերը դասավորված են աճման կարգով (կամ նվազման) , նաև պետք է ապացուցել որ A'-ի մեջ նույն տարրերն են ինչ A-ում, բայց սորտավորած։ "
      ],
      "metadata": {
        "id": "mb6G_8nNBE1o"
      }
    },
    {
      "cell_type": "markdown",
      "source": [
        ">b. \n",
        "State precisely a loop invariant for the **for** loop in lines 2–4, and prove that this loop invariant holds. Your proof should use the structure of the loop invariant proof presented in this chapter."
      ],
      "metadata": {
        "id": "3gyxr8ZYACSp"
      }
    },
    {
      "cell_type": "markdown",
      "source": [
        "1) Սկզբում մեր սորտավորած զանգվածը պարունակում է միայն $n$-երորդ տարրը։\n",
        "\n",
        "2) Ամեն քայլում, տարրը համեմատում ենք իր հաջորդի հետ, եթե մեծ է տեղով փոխում և համեմատում այդ տարրը միուսների հետ։ Մինչև հաջորդ քայլն անցնելը, սորտավորած զանգվածը ավելանում է մեկով։\n",
        "\n",
        "3) Ցիկլն ավարտվում է երբ j==i, այսինքն մեկ տարր է մնացել համեմատելու։"
      ],
      "metadata": {
        "id": "REf6Rb5gB8Bn"
      }
    },
    {
      "cell_type": "markdown",
      "source": [
        ">c. \n",
        "Using the termination condition of the loop invariant proved in part (b), state\n",
        "a loop invariant for the for loop in lines 1–4 that will allow you to prove in- equality (2.3). Your proof should use the structure of the loop invariant proof presented in this chapter."
      ],
      "metadata": {
        "id": "_ZXVKxtHARU6"
      }
    },
    {
      "cell_type": "markdown",
      "source": [
        "1) Սկզբից ունենք դատարկ զանգված։\n",
        "\n",
        "2) 2-րդ ցիկլի ամեն քայլում A[i]-ն դառնում է A[i…n]-ի ամենափոքր անդամը։ \n",
        "Ամեն անգամ 1-ին ցիկլի սկզբում ստանում ենք A[1…i−1]-ում գտնուվում են A[i…n]-ից փոքր տարրերը, բայց դասավորված։ Ցիկլից հետո A[1…i]-ում կլինի  A[i+1…n]-ից փոքր տարրերը , սորտավորած։\n",
        "\n",
        "3) Կավարտվի երբ i=A.length։"
      ],
      "metadata": {
        "id": "aq8Z8A1dKJ7I"
      }
    },
    {
      "cell_type": "markdown",
      "source": [
        ">d. What is the worst-case running time of bubblesort? How does it compare to the\n",
        "running time of insertion sort?"
      ],
      "metadata": {
        "id": "ODNli11NAYEn"
      }
    },
    {
      "cell_type": "markdown",
      "source": [
        "Երկուսի վատագույն դեպքն էլ $Θ(n^2)$ է, բայց Inertion Sort-ը ամեն քայլում կանի 1 տեղափոխում, իսկ Bubble Sort-ը A.length տեղափոխություն։ Այսինքն նույն զանգվածի վրա Insertion-ը ավելի արագ կաշխատի։\n"
      ],
      "metadata": {
        "id": "t-Gdht1XEJ83"
      }
    }
  ]
}
